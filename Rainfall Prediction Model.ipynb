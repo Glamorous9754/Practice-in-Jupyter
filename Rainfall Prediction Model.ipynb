{
 "cells": [
  {
   "cell_type": "markdown",
   "metadata": {},
   "source": [
    "### 1. Your Views About the Problem Statement?\n",
    "\n",
    "The problem statement involves predicting rainfall for the next day, which is a crucial task for weather forecasting. Accurate prediction can significantly impact decision-making in agriculture, disaster management, and daily planning. Given the complexity of weather data and its non-linear patterns, selecting the right model to forecast rainfall is essential.\n",
    "\n",
    "### 2. What Will Be Your Approach to Solving This Task?\n",
    "\n",
    "To address this task, I would:\n",
    "- **Data Exploration:** Begin by exploring and preprocessing the data to handle missing values, normalize features, and create relevant features if needed.\n",
    "- **Model Selection:** Test various machine learning models to identify the best performer. For this, I will use models like Random Forest, XGBoost, LDA, and others.\n",
    "- **Hyperparameter Tuning:** Apply techniques such as GridSearchCV to fine-tune the hyperparameters of the selected models.\n",
    "- **Evaluation:** Use metrics like accuracy, precision, recall, and F1 score to evaluate model performance. Choose the model that balances these metrics effectively and generalizes well on unseen data.\n",
    "- **Validation:** Perform cross-validation to ensure the model's robustness and reliability.\n",
    "\n",
    "### 3. What Were the Available ML Model Options You Had to Perform This Task?\n",
    "\n",
    "The available ML model options for this task included:\n",
    "- **Random Forest:** An ensemble method that aggregates the results of multiple decision trees to improve accuracy and robustness.\n",
    "- **XGBoost:** A gradient boosting algorithm that builds models sequentially to correct errors of previous models, known for its high performance and accuracy.\n",
    "- **Linear Discriminant Analysis (LDA):** A method used for dimensionality reduction and classification that works well when data is linearly separable.\n",
    "\n"
   ]
  },
  {
   "cell_type": "code",
   "execution_count": 50,
   "metadata": {},
   "outputs": [
    {
     "data": {
      "text/html": [
       "<div>\n",
       "<style scoped>\n",
       "    .dataframe tbody tr th:only-of-type {\n",
       "        vertical-align: middle;\n",
       "    }\n",
       "\n",
       "    .dataframe tbody tr th {\n",
       "        vertical-align: top;\n",
       "    }\n",
       "\n",
       "    .dataframe thead th {\n",
       "        text-align: right;\n",
       "    }\n",
       "</style>\n",
       "<table border=\"1\" class=\"dataframe\">\n",
       "  <thead>\n",
       "    <tr style=\"text-align: right;\">\n",
       "      <th></th>\n",
       "      <th>Date</th>\n",
       "      <th>Location</th>\n",
       "      <th>MinTemp</th>\n",
       "      <th>MaxTemp</th>\n",
       "      <th>Rainfall</th>\n",
       "      <th>Evaporation</th>\n",
       "      <th>Sunshine</th>\n",
       "      <th>Humidity9am</th>\n",
       "      <th>Humidity3pm</th>\n",
       "      <th>Pressure9am</th>\n",
       "      <th>Pressure3pm</th>\n",
       "      <th>Cloud9am</th>\n",
       "      <th>Cloud3pm</th>\n",
       "      <th>Temp9am</th>\n",
       "      <th>Temp3pm</th>\n",
       "      <th>RainToday</th>\n",
       "      <th>RainTomorrow</th>\n",
       "    </tr>\n",
       "  </thead>\n",
       "  <tbody>\n",
       "    <tr>\n",
       "      <th>0</th>\n",
       "      <td>2008-02-01</td>\n",
       "      <td>Sydney</td>\n",
       "      <td>19.5</td>\n",
       "      <td>22.4</td>\n",
       "      <td>15.6</td>\n",
       "      <td>6.2</td>\n",
       "      <td>0.0</td>\n",
       "      <td>92.0</td>\n",
       "      <td>84.0</td>\n",
       "      <td>1017.6</td>\n",
       "      <td>1017.4</td>\n",
       "      <td>8.0</td>\n",
       "      <td>8.0</td>\n",
       "      <td>20.7</td>\n",
       "      <td>20.9</td>\n",
       "      <td>Yes</td>\n",
       "      <td>Yes</td>\n",
       "    </tr>\n",
       "    <tr>\n",
       "      <th>1</th>\n",
       "      <td>2008-02-02</td>\n",
       "      <td>Sydney</td>\n",
       "      <td>19.5</td>\n",
       "      <td>25.6</td>\n",
       "      <td>6.0</td>\n",
       "      <td>3.4</td>\n",
       "      <td>2.7</td>\n",
       "      <td>83.0</td>\n",
       "      <td>73.0</td>\n",
       "      <td>1017.9</td>\n",
       "      <td>1016.4</td>\n",
       "      <td>7.0</td>\n",
       "      <td>7.0</td>\n",
       "      <td>22.4</td>\n",
       "      <td>24.8</td>\n",
       "      <td>Yes</td>\n",
       "      <td>Yes</td>\n",
       "    </tr>\n",
       "    <tr>\n",
       "      <th>2</th>\n",
       "      <td>2008-02-03</td>\n",
       "      <td>Sydney</td>\n",
       "      <td>21.6</td>\n",
       "      <td>24.5</td>\n",
       "      <td>6.6</td>\n",
       "      <td>2.4</td>\n",
       "      <td>0.1</td>\n",
       "      <td>88.0</td>\n",
       "      <td>86.0</td>\n",
       "      <td>1016.7</td>\n",
       "      <td>1015.6</td>\n",
       "      <td>7.0</td>\n",
       "      <td>8.0</td>\n",
       "      <td>23.5</td>\n",
       "      <td>23.0</td>\n",
       "      <td>Yes</td>\n",
       "      <td>Yes</td>\n",
       "    </tr>\n",
       "    <tr>\n",
       "      <th>3</th>\n",
       "      <td>2008-02-04</td>\n",
       "      <td>Sydney</td>\n",
       "      <td>20.2</td>\n",
       "      <td>22.8</td>\n",
       "      <td>18.8</td>\n",
       "      <td>2.2</td>\n",
       "      <td>0.0</td>\n",
       "      <td>83.0</td>\n",
       "      <td>90.0</td>\n",
       "      <td>1014.2</td>\n",
       "      <td>1011.8</td>\n",
       "      <td>8.0</td>\n",
       "      <td>8.0</td>\n",
       "      <td>21.4</td>\n",
       "      <td>20.9</td>\n",
       "      <td>Yes</td>\n",
       "      <td>Yes</td>\n",
       "    </tr>\n",
       "    <tr>\n",
       "      <th>4</th>\n",
       "      <td>2008-02-05</td>\n",
       "      <td>Sydney</td>\n",
       "      <td>19.7</td>\n",
       "      <td>25.7</td>\n",
       "      <td>77.4</td>\n",
       "      <td>NaN</td>\n",
       "      <td>0.0</td>\n",
       "      <td>88.0</td>\n",
       "      <td>74.0</td>\n",
       "      <td>1008.3</td>\n",
       "      <td>1004.8</td>\n",
       "      <td>8.0</td>\n",
       "      <td>8.0</td>\n",
       "      <td>22.5</td>\n",
       "      <td>25.5</td>\n",
       "      <td>Yes</td>\n",
       "      <td>Yes</td>\n",
       "    </tr>\n",
       "  </tbody>\n",
       "</table>\n",
       "</div>"
      ],
      "text/plain": [
       "        Date Location  MinTemp  MaxTemp  Rainfall  Evaporation  Sunshine  \\\n",
       "0 2008-02-01   Sydney     19.5     22.4      15.6          6.2       0.0   \n",
       "1 2008-02-02   Sydney     19.5     25.6       6.0          3.4       2.7   \n",
       "2 2008-02-03   Sydney     21.6     24.5       6.6          2.4       0.1   \n",
       "3 2008-02-04   Sydney     20.2     22.8      18.8          2.2       0.0   \n",
       "4 2008-02-05   Sydney     19.7     25.7      77.4          NaN       0.0   \n",
       "\n",
       "   Humidity9am  Humidity3pm  Pressure9am  Pressure3pm  Cloud9am  Cloud3pm  \\\n",
       "0         92.0         84.0       1017.6       1017.4       8.0       8.0   \n",
       "1         83.0         73.0       1017.9       1016.4       7.0       7.0   \n",
       "2         88.0         86.0       1016.7       1015.6       7.0       8.0   \n",
       "3         83.0         90.0       1014.2       1011.8       8.0       8.0   \n",
       "4         88.0         74.0       1008.3       1004.8       8.0       8.0   \n",
       "\n",
       "   Temp9am  Temp3pm RainToday RainTomorrow  \n",
       "0     20.7     20.9       Yes          Yes  \n",
       "1     22.4     24.8       Yes          Yes  \n",
       "2     23.5     23.0       Yes          Yes  \n",
       "3     21.4     20.9       Yes          Yes  \n",
       "4     22.5     25.5       Yes          Yes  "
      ]
     },
     "execution_count": 50,
     "metadata": {},
     "output_type": "execute_result"
    }
   ],
   "source": [
    "import pandas as pd\n",
    "\n",
    "url = 'https://raw.githubusercontent.com/Glamorous9754/Practice-in-Jupyter/main/Data%20Files/sydney_rain%20prediction.xlsx'\n",
    "df = pd.read_excel(url)\n",
    "df.head()"
   ]
  },
  {
   "cell_type": "code",
   "execution_count": 51,
   "metadata": {},
   "outputs": [
    {
     "name": "stdout",
     "output_type": "stream",
     "text": [
      "<class 'pandas.core.frame.DataFrame'>\n",
      "RangeIndex: 3337 entries, 0 to 3336\n",
      "Data columns (total 17 columns):\n",
      " #   Column        Non-Null Count  Dtype         \n",
      "---  ------        --------------  -----         \n",
      " 0   Date          3337 non-null   datetime64[ns]\n",
      " 1   Location      3337 non-null   object        \n",
      " 2   MinTemp       3334 non-null   float64       \n",
      " 3   MaxTemp       3335 non-null   float64       \n",
      " 4   Rainfall      3331 non-null   float64       \n",
      " 5   Evaporation   3286 non-null   float64       \n",
      " 6   Sunshine      3321 non-null   float64       \n",
      " 7   Humidity9am   3323 non-null   float64       \n",
      " 8   Humidity3pm   3324 non-null   float64       \n",
      " 9   Pressure9am   3317 non-null   float64       \n",
      " 10  Pressure3pm   3318 non-null   float64       \n",
      " 11  Cloud9am      2771 non-null   float64       \n",
      " 12  Cloud3pm      2776 non-null   float64       \n",
      " 13  Temp9am       3333 non-null   float64       \n",
      " 14  Temp3pm       3333 non-null   float64       \n",
      " 15  RainToday     3331 non-null   object        \n",
      " 16  RainTomorrow  3337 non-null   object        \n",
      "dtypes: datetime64[ns](1), float64(13), object(3)\n",
      "memory usage: 443.3+ KB\n"
     ]
    }
   ],
   "source": [
    "df.info()"
   ]
  },
  {
   "cell_type": "markdown",
   "metadata": {},
   "source": [
    "# Data Cleaning"
   ]
  },
  {
   "cell_type": "code",
   "execution_count": 52,
   "metadata": {},
   "outputs": [
    {
     "data": {
      "text/plain": [
       "MinTemp           3\n",
       "MaxTemp           2\n",
       "Rainfall          6\n",
       "Evaporation      51\n",
       "Sunshine         16\n",
       "Humidity9am      14\n",
       "Humidity3pm      13\n",
       "Pressure9am      20\n",
       "Pressure3pm      19\n",
       "Cloud9am        566\n",
       "Cloud3pm        561\n",
       "Temp9am           4\n",
       "Temp3pm           4\n",
       "RainToday         6\n",
       "RainTomorrow      0\n",
       "dtype: int64"
      ]
     },
     "execution_count": 52,
     "metadata": {},
     "output_type": "execute_result"
    }
   ],
   "source": [
    "df_filtered =df.drop(['Date','Location'],axis=1)\n",
    "df_filtered.isnull().sum()"
   ]
  },
  {
   "cell_type": "code",
   "execution_count": 53,
   "metadata": {},
   "outputs": [
    {
     "data": {
      "text/plain": [
       "(MinTemp         0\n",
       " MaxTemp         0\n",
       " Rainfall        0\n",
       " Evaporation     0\n",
       " Sunshine        0\n",
       " Humidity9am     0\n",
       " Humidity3pm     0\n",
       " Pressure9am     0\n",
       " Pressure3pm     0\n",
       " Cloud9am        0\n",
       " Cloud3pm        0\n",
       " Temp9am         0\n",
       " Temp3pm         0\n",
       " RainToday       0\n",
       " RainTomorrow    0\n",
       " dtype: int64,\n",
       "    MinTemp  MaxTemp  Rainfall  Evaporation  Sunshine  Humidity9am  \\\n",
       " 0     19.5     22.4      15.6     6.200000       0.0         92.0   \n",
       " 1     19.5     25.6       6.0     3.400000       2.7         83.0   \n",
       " 2     21.6     24.5       6.6     2.400000       0.1         88.0   \n",
       " 3     20.2     22.8      18.8     2.200000       0.0         83.0   \n",
       " 4     19.7     25.7      77.4     5.187432       0.0         88.0   \n",
       " \n",
       "    Humidity3pm  Pressure9am  Pressure3pm  Cloud9am  Cloud3pm  Temp9am  \\\n",
       " 0         84.0       1017.6       1017.4       8.0       8.0     20.7   \n",
       " 1         73.0       1017.9       1016.4       7.0       7.0     22.4   \n",
       " 2         86.0       1016.7       1015.6       7.0       8.0     23.5   \n",
       " 3         90.0       1014.2       1011.8       8.0       8.0     21.4   \n",
       " 4         74.0       1008.3       1004.8       8.0       8.0     22.5   \n",
       " \n",
       "    Temp3pm RainToday RainTomorrow  \n",
       " 0     20.9       Yes          Yes  \n",
       " 1     24.8       Yes          Yes  \n",
       " 2     23.0       Yes          Yes  \n",
       " 3     20.9       Yes          Yes  \n",
       " 4     25.5       Yes          Yes  )"
      ]
     },
     "execution_count": 53,
     "metadata": {},
     "output_type": "execute_result"
    }
   ],
   "source": [
    "# Fill missing values for categorical data with mode\n",
    "for column in ['RainToday']:\n",
    "    df_filtered[column].fillna(df_filtered[column].mode()[0], inplace=True)\n",
    "\n",
    "# Fill missing values for numerical data with median\n",
    "for column in ['MinTemp', 'MaxTemp','Rainfall','Evaporation','Sunshine',\n",
    "               'Humidity9am','Humidity3pm','Pressure9am','Pressure3pm',\n",
    "               'Cloud9am','Cloud3pm','Temp9am','Temp3pm']:\n",
    "    df_filtered[column].fillna(df_filtered[column].mean(), inplace=True)\n",
    "\n",
    "# Verify that missing values have been filled\n",
    "df_filtered.isnull().sum(), df_filtered.head()"
   ]
  },
  {
   "cell_type": "code",
   "execution_count": 54,
   "metadata": {},
   "outputs": [
    {
     "data": {
      "image/png": "[encoded data removed]",
      "text/plain": [
       "<Figure size 1500x1000 with 13 Axes>"
      ]
     },
     "metadata": {},
     "output_type": "display_data"
    }
   ],
   "source": [
    "import seaborn as sns\n",
    "import matplotlib.pyplot as plt\n",
    "\n",
    "# Define a list of numerical columns to check for outliers\n",
    "numerical_cols = ['MinTemp', 'MaxTemp','Rainfall','Evaporation','Sunshine',\n",
    "               'Humidity9am','Humidity3pm','Pressure9am','Pressure3pm',\n",
    "               'Cloud9am','Cloud3pm','Temp9am','Temp3pm']\n",
    "\n",
    "# Plotting boxplots to visualize outliers\n",
    "plt.figure(figsize=(15, 10))\n",
    "for i, col in enumerate(numerical_cols, 1):\n",
    "    plt.subplot(5, 4, i)\n",
    "    sns.boxplot(y=df_filtered[col])\n",
    "    plt.title(col)\n",
    "\n",
    "plt.tight_layout()\n",
    "plt.show()"
   ]
  },
  {
   "cell_type": "code",
   "execution_count": 55,
   "metadata": {},
   "outputs": [
    {
     "name": "stdout",
     "output_type": "stream",
     "text": [
      "<class 'pandas.core.frame.DataFrame'>\n",
      "RangeIndex: 3337 entries, 0 to 3336\n",
      "Data columns (total 15 columns):\n",
      " #   Column            Non-Null Count  Dtype\n",
      "---  ------            --------------  -----\n",
      " 0   MinTemp           3337 non-null   int32\n",
      " 1   MaxTemp           3337 non-null   int32\n",
      " 2   Rainfall          3337 non-null   int32\n",
      " 3   Evaporation       3337 non-null   int32\n",
      " 4   Sunshine          3337 non-null   int32\n",
      " 5   Humidity9am       3337 non-null   int32\n",
      " 6   Humidity3pm       3337 non-null   int32\n",
      " 7   Pressure9am       3337 non-null   int32\n",
      " 8   Pressure3pm       3337 non-null   int32\n",
      " 9   Cloud9am          3337 non-null   int32\n",
      " 10  Cloud3pm          3337 non-null   int32\n",
      " 11  Temp9am           3337 non-null   int32\n",
      " 12  Temp3pm           3337 non-null   int32\n",
      " 13  RainToday_Yes     3337 non-null   int32\n",
      " 14  RainTomorrow_Yes  3337 non-null   int32\n",
      "dtypes: int32(15)\n",
      "memory usage: 195.7 KB\n"
     ]
    }
   ],
   "source": [
    "# Create Dummy Variables\n",
    "df_filtered = pd.get_dummies(df_filtered, drop_first=True).astype(int)\n",
    "df_filtered.info()"
   ]
  },
  {
   "cell_type": "markdown",
   "metadata": {},
   "source": [
    "# EDD"
   ]
  },
  {
   "cell_type": "code",
   "execution_count": 66,
   "metadata": {},
   "outputs": [
    {
     "data": {
      "text/plain": [
       "MinTemp          0.078575\n",
       "MaxTemp         -0.149355\n",
       "Rainfall         0.290209\n",
       "Evaporation     -0.065338\n",
       "Sunshine        -0.518147\n",
       "Humidity9am      0.329028\n",
       "Humidity3pm      0.471259\n",
       "Pressure9am     -0.032757\n",
       "Pressure3pm      0.011177\n",
       "Cloud9am         0.328448\n",
       "Cloud3pm         0.411826\n",
       "Temp9am         -0.000235\n",
       "Temp3pm         -0.189532\n",
       "RainToday_Yes    0.340894\n",
       "Name: RainTomorrow_Yes, dtype: float64"
      ]
     },
     "execution_count": 66,
     "metadata": {},
     "output_type": "execute_result"
    }
   ],
   "source": [
    "df_corr = df_filtered.corr()\n",
    "CTC_corr = df_corr.RainTomorrow_Yes.drop(['RainTomorrow_Yes'],axis=0)\n",
    "CTC_corr"
   ]
  },
  {
   "cell_type": "markdown",
   "metadata": {},
   "source": [
    "# Defining independent variable(x) and dependent variable(y)"
   ]
  },
  {
   "cell_type": "code",
   "execution_count": 56,
   "metadata": {},
   "outputs": [],
   "source": [
    "x = df_filtered.drop(['RainTomorrow_Yes'],axis=1)\n",
    "y = df_filtered['RainTomorrow_Yes']\n",
    "\n",
    "# Splitting the data into training and testing sets\n",
    "from sklearn.model_selection import train_test_split\n",
    "\n",
    "x_train, x_test, y_train, y_test = train_test_split(x, y, test_size=0.2, random_state=42)\n",
    "\n",
    "# Feature Scaling\n",
    "from sklearn.preprocessing import StandardScaler\n",
    "\n",
    "sc = StandardScaler().fit(x_train)\n",
    "x_train_s = sc.transform(x_train)\n",
    "sc = StandardScaler().fit(x_test)\n",
    "x_test_s  = sc.transform(x_test)"
   ]
  },
  {
   "cell_type": "markdown",
   "metadata": {},
   "source": [
    "# Model Building"
   ]
  },
  {
   "cell_type": "code",
   "execution_count": 60,
   "metadata": {},
   "outputs": [],
   "source": [
    "# Model Evaluation Metrics\n",
    "from sklearn.metrics import accuracy_score, f1_score, recall_score, precision_score,confusion_matrix"
   ]
  },
  {
   "cell_type": "markdown",
   "metadata": {},
   "source": [
    "## Logistic Regression Model (LR)"
   ]
  },
  {
   "cell_type": "code",
   "execution_count": 59,
   "metadata": {},
   "outputs": [
    {
     "data": {
      "text/html": [
       "<style>#sk-container-id-2 {color: black;background-color: white;}#sk-container-id-2 pre{padding: 0;}#sk-container-id-2 div.sk-toggleable {background-color: white;}#sk-container-id-2 label.sk-toggleable__label {cursor: pointer;display: block;width: 100%;margin-bottom: 0;padding: 0.3em;box-sizing: border-box;text-align: center;}#sk-container-id-2 label.sk-toggleable__label-arrow:before {content: \"▸\";float: left;margin-right: 0.25em;color: #696969;}#sk-container-id-2 label.sk-toggleable__label-arrow:hover:before {color: black;}#sk-container-id-2 div.sk-estimator:hover label.sk-toggleable__label-arrow:before {color: black;}#sk-container-id-2 div.sk-toggleable__content {max-height: 0;max-width: 0;overflow: hidden;text-align: left;background-color: #f0f8ff;}#sk-container-id-2 div.sk-toggleable__content pre {margin: 0.2em;color: black;border-radius: 0.25em;background-color: #f0f8ff;}#sk-container-id-2 input.sk-toggleable__control:checked~div.sk-toggleable__content {max-height: 200px;max-width: 100%;overflow: auto;}#sk-container-id-2 input.sk-toggleable__control:checked~label.sk-toggleable__label-arrow:before {content: \"▾\";}#sk-container-id-2 div.sk-estimator input.sk-toggleable__control:checked~label.sk-toggleable__label {background-color: #d4ebff;}#sk-container-id-2 div.sk-label input.sk-toggleable__control:checked~label.sk-toggleable__label {background-color: #d4ebff;}#sk-container-id-2 input.sk-hidden--visually {border: 0;clip: rect(1px 1px 1px 1px);clip: rect(1px, 1px, 1px, 1px);height: 1px;margin: -1px;overflow: hidden;padding: 0;position: absolute;width: 1px;}#sk-container-id-2 div.sk-estimator {font-family: monospace;background-color: #f0f8ff;border: 1px dotted black;border-radius: 0.25em;box-sizing: border-box;margin-bottom: 0.5em;}#sk-container-id-2 div.sk-estimator:hover {background-color: #d4ebff;}#sk-container-id-2 div.sk-parallel-item::after {content: \"\";width: 100%;border-bottom: 1px solid gray;flex-grow: 1;}#sk-container-id-2 div.sk-label:hover label.sk-toggleable__label {background-color: #d4ebff;}#sk-container-id-2 div.sk-serial::before {content: \"\";position: absolute;border-left: 1px solid gray;box-sizing: border-box;top: 0;bottom: 0;left: 50%;z-index: 0;}#sk-container-id-2 div.sk-serial {display: flex;flex-direction: column;align-items: center;background-color: white;padding-right: 0.2em;padding-left: 0.2em;position: relative;}#sk-container-id-2 div.sk-item {position: relative;z-index: 1;}#sk-container-id-2 div.sk-parallel {display: flex;align-items: stretch;justify-content: center;background-color: white;position: relative;}#sk-container-id-2 div.sk-item::before, #sk-container-id-2 div.sk-parallel-item::before {content: \"\";position: absolute;border-left: 1px solid gray;box-sizing: border-box;top: 0;bottom: 0;left: 50%;z-index: -1;}#sk-container-id-2 div.sk-parallel-item {display: flex;flex-direction: column;z-index: 1;position: relative;background-color: white;}#sk-container-id-2 div.sk-parallel-item:first-child::after {align-self: flex-end;width: 50%;}#sk-container-id-2 div.sk-parallel-item:last-child::after {align-self: flex-start;width: 50%;}#sk-container-id-2 div.sk-parallel-item:only-child::after {width: 0;}#sk-container-id-2 div.sk-dashed-wrapped {border: 1px dashed gray;margin: 0 0.4em 0.5em 0.4em;box-sizing: border-box;padding-bottom: 0.4em;background-color: white;}#sk-container-id-2 div.sk-label label {font-family: monospace;font-weight: bold;display: inline-block;line-height: 1.2em;}#sk-container-id-2 div.sk-label-container {text-align: center;}#sk-container-id-2 div.sk-container {/* jupyter's `normalize.less` sets `[hidden] { display: none; }` but bootstrap.min.css set `[hidden] { display: none !important; }` so we also need the `!important` here to be able to override the default hidden behavior on the sphinx rendered scikit-learn.org. See: https://github.com/scikit-learn/scikit-learn/issues/21755 */display: inline-block !important;position: relative;}#sk-container-id-2 div.sk-text-repr-fallback {display: none;}</style><div id=\"sk-container-id-2\" class=\"sk-top-container\"><div class=\"sk-text-repr-fallback\"><pre>LogisticRegression(max_iter=5000)</pre><b>In a Jupyter environment, please rerun this cell to show the HTML representation or trust the notebook. <br />On GitHub, the HTML representation is unable to render, please try loading this page with nbviewer.org.</b></div><div class=\"sk-container\" hidden><div class=\"sk-item\"><div class=\"sk-estimator sk-toggleable\"><input class=\"sk-toggleable__control sk-hidden--visually\" id=\"sk-estimator-id-2\" type=\"checkbox\" checked><label for=\"sk-estimator-id-2\" class=\"sk-toggleable__label sk-toggleable__label-arrow\">LogisticRegression</label><div class=\"sk-toggleable__content\"><pre>LogisticRegression(max_iter=5000)</pre></div></div></div></div></div>"
      ],
      "text/plain": [
       "LogisticRegression(max_iter=5000)"
      ]
     },
     "execution_count": 59,
     "metadata": {},
     "output_type": "execute_result"
    }
   ],
   "source": [
    "from sklearn.linear_model import LogisticRegression\n",
    "\n",
    "clf_LR = LogisticRegression(max_iter=5000)\n",
    "clf_LR.fit(x_train, y_train)"
   ]
  },
  {
   "cell_type": "code",
   "execution_count": 61,
   "metadata": {},
   "outputs": [
    {
     "name": "stdout",
     "output_type": "stream",
     "text": [
      "Training Accuracy: 0.8385162982390408\n",
      "Training F1 Score: 0.6399331662489557\n",
      "Training Recall: 0.5624082232011748\n",
      "Training Precision: 0.7422480620155039\n",
      "Confusion Matrix for training data: \n",
      " [[1855  133]\n",
      " [ 298  383]]\n",
      "Testing Accuracy: 0.8203592814371258\n",
      "Testing F1 Score: 0.6319018404907976\n",
      "Testing Recall: 0.5597826086956522\n",
      "Testing Precision: 0.7253521126760564\n",
      "\n",
      " Confusion Matrix for testing data: \n",
      " [[445  39]\n",
      " [ 81 103]]\n"
     ]
    }
   ],
   "source": [
    "model = clf_LR\n",
    "y_train_pred = model.predict(x_train)\n",
    "y_test_pred = model.predict(x_test)\n",
    "# Model Evaluation\n",
    "print(\"Training Accuracy:\", accuracy_score(y_train,y_train_pred))\n",
    "print(\"Training F1 Score:\", f1_score(y_train,y_train_pred))\n",
    "print(\"Training Recall:\", recall_score(y_train,y_train_pred))\n",
    "print(\"Training Precision:\", precision_score(y_train,y_train_pred))\n",
    "print('Confusion Matrix for training data: \\n',confusion_matrix(y_train, y_train_pred))\n",
    "\n",
    "print(\"Testing Accuracy:\", accuracy_score(y_test,y_test_pred))\n",
    "print(\"Testing F1 Score:\", f1_score(y_test,y_test_pred))\n",
    "print(\"Testing Recall:\", recall_score(y_test,y_test_pred))\n",
    "print(\"Testing Precision:\", precision_score(y_test,y_test_pred))\n",
    "print('\\n Confusion Matrix for testing data: \\n',confusion_matrix(y_test, y_test_pred))"
   ]
  },
  {
   "cell_type": "markdown",
   "metadata": {},
   "source": [
    "## Linear Discriminant Analysis Model (LDA)"
   ]
  },
  {
   "cell_type": "code",
   "execution_count": 62,
   "metadata": {},
   "outputs": [
    {
     "data": {
      "text/html": [
       "<style>#sk-container-id-3 {color: black;background-color: white;}#sk-container-id-3 pre{padding: 0;}#sk-container-id-3 div.sk-toggleable {background-color: white;}#sk-container-id-3 label.sk-toggleable__label {cursor: pointer;display: block;width: 100%;margin-bottom: 0;padding: 0.3em;box-sizing: border-box;text-align: center;}#sk-container-id-3 label.sk-toggleable__label-arrow:before {content: \"▸\";float: left;margin-right: 0.25em;color: #696969;}#sk-container-id-3 label.sk-toggleable__label-arrow:hover:before {color: black;}#sk-container-id-3 div.sk-estimator:hover label.sk-toggleable__label-arrow:before {color: black;}#sk-container-id-3 div.sk-toggleable__content {max-height: 0;max-width: 0;overflow: hidden;text-align: left;background-color: #f0f8ff;}#sk-container-id-3 div.sk-toggleable__content pre {margin: 0.2em;color: black;border-radius: 0.25em;background-color: #f0f8ff;}#sk-container-id-3 input.sk-toggleable__control:checked~div.sk-toggleable__content {max-height: 200px;max-width: 100%;overflow: auto;}#sk-container-id-3 input.sk-toggleable__control:checked~label.sk-toggleable__label-arrow:before {content: \"▾\";}#sk-container-id-3 div.sk-estimator input.sk-toggleable__control:checked~label.sk-toggleable__label {background-color: #d4ebff;}#sk-container-id-3 div.sk-label input.sk-toggleable__control:checked~label.sk-toggleable__label {background-color: #d4ebff;}#sk-container-id-3 input.sk-hidden--visually {border: 0;clip: rect(1px 1px 1px 1px);clip: rect(1px, 1px, 1px, 1px);height: 1px;margin: -1px;overflow: hidden;padding: 0;position: absolute;width: 1px;}#sk-container-id-3 div.sk-estimator {font-family: monospace;background-color: #f0f8ff;border: 1px dotted black;border-radius: 0.25em;box-sizing: border-box;margin-bottom: 0.5em;}#sk-container-id-3 div.sk-estimator:hover {background-color: #d4ebff;}#sk-container-id-3 div.sk-parallel-item::after {content: \"\";width: 100%;border-bottom: 1px solid gray;flex-grow: 1;}#sk-container-id-3 div.sk-label:hover label.sk-toggleable__label {background-color: #d4ebff;}#sk-container-id-3 div.sk-serial::before {content: \"\";position: absolute;border-left: 1px solid gray;box-sizing: border-box;top: 0;bottom: 0;left: 50%;z-index: 0;}#sk-container-id-3 div.sk-serial {display: flex;flex-direction: column;align-items: center;background-color: white;padding-right: 0.2em;padding-left: 0.2em;position: relative;}#sk-container-id-3 div.sk-item {position: relative;z-index: 1;}#sk-container-id-3 div.sk-parallel {display: flex;align-items: stretch;justify-content: center;background-color: white;position: relative;}#sk-container-id-3 div.sk-item::before, #sk-container-id-3 div.sk-parallel-item::before {content: \"\";position: absolute;border-left: 1px solid gray;box-sizing: border-box;top: 0;bottom: 0;left: 50%;z-index: -1;}#sk-container-id-3 div.sk-parallel-item {display: flex;flex-direction: column;z-index: 1;position: relative;background-color: white;}#sk-container-id-3 div.sk-parallel-item:first-child::after {align-self: flex-end;width: 50%;}#sk-container-id-3 div.sk-parallel-item:last-child::after {align-self: flex-start;width: 50%;}#sk-container-id-3 div.sk-parallel-item:only-child::after {width: 0;}#sk-container-id-3 div.sk-dashed-wrapped {border: 1px dashed gray;margin: 0 0.4em 0.5em 0.4em;box-sizing: border-box;padding-bottom: 0.4em;background-color: white;}#sk-container-id-3 div.sk-label label {font-family: monospace;font-weight: bold;display: inline-block;line-height: 1.2em;}#sk-container-id-3 div.sk-label-container {text-align: center;}#sk-container-id-3 div.sk-container {/* jupyter's `normalize.less` sets `[hidden] { display: none; }` but bootstrap.min.css set `[hidden] { display: none !important; }` so we also need the `!important` here to be able to override the default hidden behavior on the sphinx rendered scikit-learn.org. See: https://github.com/scikit-learn/scikit-learn/issues/21755 */display: inline-block !important;position: relative;}#sk-container-id-3 div.sk-text-repr-fallback {display: none;}</style><div id=\"sk-container-id-3\" class=\"sk-top-container\"><div class=\"sk-text-repr-fallback\"><pre>LinearDiscriminantAnalysis()</pre><b>In a Jupyter environment, please rerun this cell to show the HTML representation or trust the notebook. <br />On GitHub, the HTML representation is unable to render, please try loading this page with nbviewer.org.</b></div><div class=\"sk-container\" hidden><div class=\"sk-item\"><div class=\"sk-estimator sk-toggleable\"><input class=\"sk-toggleable__control sk-hidden--visually\" id=\"sk-estimator-id-3\" type=\"checkbox\" checked><label for=\"sk-estimator-id-3\" class=\"sk-toggleable__label sk-toggleable__label-arrow\">LinearDiscriminantAnalysis</label><div class=\"sk-toggleable__content\"><pre>LinearDiscriminantAnalysis()</pre></div></div></div></div></div>"
      ],
      "text/plain": [
       "LinearDiscriminantAnalysis()"
      ]
     },
     "execution_count": 62,
     "metadata": {},
     "output_type": "execute_result"
    }
   ],
   "source": [
    "from sklearn.discriminant_analysis import LinearDiscriminantAnalysis\n",
    "\n",
    "clf_LDA = LinearDiscriminantAnalysis()\n",
    "clf_LDA.fit(x_train, y_train)"
   ]
  },
  {
   "cell_type": "code",
   "execution_count": 63,
   "metadata": {},
   "outputs": [
    {
     "name": "stdout",
     "output_type": "stream",
     "text": [
      "Training Accuracy: 0.8347695766204571\n",
      "Training F1 Score: 0.6446414182111201\n",
      "Training Recall: 0.5873715124816447\n",
      "Training Precision: 0.7142857142857143\n",
      "Confusion Matrix for training data: \n",
      " [[1828  160]\n",
      " [ 281  400]]\n",
      "Testing Accuracy: 0.812874251497006\n",
      "Testing F1 Score: 0.6246246246246246\n",
      "Testing Recall: 0.5652173913043478\n",
      "Testing Precision: 0.697986577181208\n",
      "\n",
      " Confusion Matrix for testing data: \n",
      " [[439  45]\n",
      " [ 80 104]]\n"
     ]
    }
   ],
   "source": [
    "model = clf_LDA\n",
    "y_train_pred = model.predict(x_train)\n",
    "y_test_pred = model.predict(x_test)\n",
    "# Model Evaluation\n",
    "print(\"Training Accuracy:\", accuracy_score(y_train,y_train_pred))\n",
    "print(\"Training F1 Score:\", f1_score(y_train,y_train_pred))\n",
    "print(\"Training Recall:\", recall_score(y_train,y_train_pred))\n",
    "print(\"Training Precision:\", precision_score(y_train,y_train_pred))\n",
    "print('Confusion Matrix for training data: \\n',confusion_matrix(y_train, y_train_pred))\n",
    "\n",
    "print(\"Testing Accuracy:\", accuracy_score(y_test,y_test_pred))\n",
    "print(\"Testing F1 Score:\", f1_score(y_test,y_test_pred))\n",
    "print(\"Testing Recall:\", recall_score(y_test,y_test_pred))\n",
    "print(\"Testing Precision:\", precision_score(y_test,y_test_pred))\n",
    "print('\\n Confusion Matrix for testing data: \\n',confusion_matrix(y_test, y_test_pred))"
   ]
  },
  {
   "cell_type": "markdown",
   "metadata": {},
   "source": [
    "## K - Nearest Neighbourhood Model (KNN)"
   ]
  },
  {
   "cell_type": "code",
   "execution_count": 68,
   "metadata": {},
   "outputs": [
    {
     "data": {
      "text/html": [
       "<style>#sk-container-id-4 {color: black;background-color: white;}#sk-container-id-4 pre{padding: 0;}#sk-container-id-4 div.sk-toggleable {background-color: white;}#sk-container-id-4 label.sk-toggleable__label {cursor: pointer;display: block;width: 100%;margin-bottom: 0;padding: 0.3em;box-sizing: border-box;text-align: center;}#sk-container-id-4 label.sk-toggleable__label-arrow:before {content: \"▸\";float: left;margin-right: 0.25em;color: #696969;}#sk-container-id-4 label.sk-toggleable__label-arrow:hover:before {color: black;}#sk-container-id-4 div.sk-estimator:hover label.sk-toggleable__label-arrow:before {color: black;}#sk-container-id-4 div.sk-toggleable__content {max-height: 0;max-width: 0;overflow: hidden;text-align: left;background-color: #f0f8ff;}#sk-container-id-4 div.sk-toggleable__content pre {margin: 0.2em;color: black;border-radius: 0.25em;background-color: #f0f8ff;}#sk-container-id-4 input.sk-toggleable__control:checked~div.sk-toggleable__content {max-height: 200px;max-width: 100%;overflow: auto;}#sk-container-id-4 input.sk-toggleable__control:checked~label.sk-toggleable__label-arrow:before {content: \"▾\";}#sk-container-id-4 div.sk-estimator input.sk-toggleable__control:checked~label.sk-toggleable__label {background-color: #d4ebff;}#sk-container-id-4 div.sk-label input.sk-toggleable__control:checked~label.sk-toggleable__label {background-color: #d4ebff;}#sk-container-id-4 input.sk-hidden--visually {border: 0;clip: rect(1px 1px 1px 1px);clip: rect(1px, 1px, 1px, 1px);height: 1px;margin: -1px;overflow: hidden;padding: 0;position: absolute;width: 1px;}#sk-container-id-4 div.sk-estimator {font-family: monospace;background-color: #f0f8ff;border: 1px dotted black;border-radius: 0.25em;box-sizing: border-box;margin-bottom: 0.5em;}#sk-container-id-4 div.sk-estimator:hover {background-color: #d4ebff;}#sk-container-id-4 div.sk-parallel-item::after {content: \"\";width: 100%;border-bottom: 1px solid gray;flex-grow: 1;}#sk-container-id-4 div.sk-label:hover label.sk-toggleable__label {background-color: #d4ebff;}#sk-container-id-4 div.sk-serial::before {content: \"\";position: absolute;border-left: 1px solid gray;box-sizing: border-box;top: 0;bottom: 0;left: 50%;z-index: 0;}#sk-container-id-4 div.sk-serial {display: flex;flex-direction: column;align-items: center;background-color: white;padding-right: 0.2em;padding-left: 0.2em;position: relative;}#sk-container-id-4 div.sk-item {position: relative;z-index: 1;}#sk-container-id-4 div.sk-parallel {display: flex;align-items: stretch;justify-content: center;background-color: white;position: relative;}#sk-container-id-4 div.sk-item::before, #sk-container-id-4 div.sk-parallel-item::before {content: \"\";position: absolute;border-left: 1px solid gray;box-sizing: border-box;top: 0;bottom: 0;left: 50%;z-index: -1;}#sk-container-id-4 div.sk-parallel-item {display: flex;flex-direction: column;z-index: 1;position: relative;background-color: white;}#sk-container-id-4 div.sk-parallel-item:first-child::after {align-self: flex-end;width: 50%;}#sk-container-id-4 div.sk-parallel-item:last-child::after {align-self: flex-start;width: 50%;}#sk-container-id-4 div.sk-parallel-item:only-child::after {width: 0;}#sk-container-id-4 div.sk-dashed-wrapped {border: 1px dashed gray;margin: 0 0.4em 0.5em 0.4em;box-sizing: border-box;padding-bottom: 0.4em;background-color: white;}#sk-container-id-4 div.sk-label label {font-family: monospace;font-weight: bold;display: inline-block;line-height: 1.2em;}#sk-container-id-4 div.sk-label-container {text-align: center;}#sk-container-id-4 div.sk-container {/* jupyter's `normalize.less` sets `[hidden] { display: none; }` but bootstrap.min.css set `[hidden] { display: none !important; }` so we also need the `!important` here to be able to override the default hidden behavior on the sphinx rendered scikit-learn.org. See: https://github.com/scikit-learn/scikit-learn/issues/21755 */display: inline-block !important;position: relative;}#sk-container-id-4 div.sk-text-repr-fallback {display: none;}</style><div id=\"sk-container-id-4\" class=\"sk-top-container\"><div class=\"sk-text-repr-fallback\"><pre>KNeighborsClassifier()</pre><b>In a Jupyter environment, please rerun this cell to show the HTML representation or trust the notebook. <br />On GitHub, the HTML representation is unable to render, please try loading this page with nbviewer.org.</b></div><div class=\"sk-container\" hidden><div class=\"sk-item\"><div class=\"sk-estimator sk-toggleable\"><input class=\"sk-toggleable__control sk-hidden--visually\" id=\"sk-estimator-id-4\" type=\"checkbox\" checked><label for=\"sk-estimator-id-4\" class=\"sk-toggleable__label sk-toggleable__label-arrow\">KNeighborsClassifier</label><div class=\"sk-toggleable__content\"><pre>KNeighborsClassifier()</pre></div></div></div></div></div>"
      ],
      "text/plain": [
       "KNeighborsClassifier()"
      ]
     },
     "execution_count": 68,
     "metadata": {},
     "output_type": "execute_result"
    }
   ],
   "source": [
    "from sklearn.neighbors import KNeighborsClassifier\n",
    "\n",
    "clf_KNN = KNeighborsClassifier()\n",
    "clf_KNN.fit(x_train_s, y_train)"
   ]
  },
  {
   "cell_type": "code",
   "execution_count": 70,
   "metadata": {},
   "outputs": [
    {
     "name": "stdout",
     "output_type": "stream",
     "text": [
      "Training Accuracy: 0.8639940052454103\n",
      "Training F1 Score: 0.6962343096234309\n",
      "Training Recall: 0.6108663729809104\n",
      "Training Precision: 0.8093385214007782\n",
      "Confusion Matrix for training data: \n",
      " [[1890   98]\n",
      " [ 265  416]]\n",
      "Testing Accuracy: 0.7994011976047904\n",
      "Testing F1 Score: 0.5889570552147239\n",
      "Testing Recall: 0.5217391304347826\n",
      "Testing Precision: 0.676056338028169\n",
      "\n",
      " Confusion Matrix for testing data: \n",
      " [[438  46]\n",
      " [ 88  96]]\n"
     ]
    }
   ],
   "source": [
    "model = clf_KNN\n",
    "y_train_pred = model.predict(x_train_s)\n",
    "y_test_pred = model.predict(x_test_s)\n",
    "# Model Evaluation\n",
    "print(\"Training Accuracy:\", accuracy_score(y_train,y_train_pred))\n",
    "print(\"Training F1 Score:\", f1_score(y_train,y_train_pred))\n",
    "print(\"Training Recall:\", recall_score(y_train,y_train_pred))\n",
    "print(\"Training Precision:\", precision_score(y_train,y_train_pred))\n",
    "print('Confusion Matrix for training data: \\n',confusion_matrix(y_train, y_train_pred))\n",
    "\n",
    "print(\"Testing Accuracy:\", accuracy_score(y_test,y_test_pred))\n",
    "print(\"Testing F1 Score:\", f1_score(y_test,y_test_pred))\n",
    "print(\"Testing Recall:\", recall_score(y_test,y_test_pred))\n",
    "print(\"Testing Precision:\", precision_score(y_test,y_test_pred))\n",
    "print('\\n Confusion Matrix for testing data: \\n',confusion_matrix(y_test, y_test_pred))"
   ]
  },
  {
   "cell_type": "markdown",
   "metadata": {},
   "source": [
    "## Decision Tree Model (DT)"
   ]
  },
  {
   "cell_type": "code",
   "execution_count": 110,
   "metadata": {},
   "outputs": [
    {
     "data": {
      "text/html": [
       "<style>#sk-container-id-26 {color: black;background-color: white;}#sk-container-id-26 pre{padding: 0;}#sk-container-id-26 div.sk-toggleable {background-color: white;}#sk-container-id-26 label.sk-toggleable__label {cursor: pointer;display: block;width: 100%;margin-bottom: 0;padding: 0.3em;box-sizing: border-box;text-align: center;}#sk-container-id-26 label.sk-toggleable__label-arrow:before {content: \"▸\";float: left;margin-right: 0.25em;color: #696969;}#sk-container-id-26 label.sk-toggleable__label-arrow:hover:before {color: black;}#sk-container-id-26 div.sk-estimator:hover label.sk-toggleable__label-arrow:before {color: black;}#sk-container-id-26 div.sk-toggleable__content {max-height: 0;max-width: 0;overflow: hidden;text-align: left;background-color: #f0f8ff;}#sk-container-id-26 div.sk-toggleable__content pre {margin: 0.2em;color: black;border-radius: 0.25em;background-color: #f0f8ff;}#sk-container-id-26 input.sk-toggleable__control:checked~div.sk-toggleable__content {max-height: 200px;max-width: 100%;overflow: auto;}#sk-container-id-26 input.sk-toggleable__control:checked~label.sk-toggleable__label-arrow:before {content: \"▾\";}#sk-container-id-26 div.sk-estimator input.sk-toggleable__control:checked~label.sk-toggleable__label {background-color: #d4ebff;}#sk-container-id-26 div.sk-label input.sk-toggleable__control:checked~label.sk-toggleable__label {background-color: #d4ebff;}#sk-container-id-26 input.sk-hidden--visually {border: 0;clip: rect(1px 1px 1px 1px);clip: rect(1px, 1px, 1px, 1px);height: 1px;margin: -1px;overflow: hidden;padding: 0;position: absolute;width: 1px;}#sk-container-id-26 div.sk-estimator {font-family: monospace;background-color: #f0f8ff;border: 1px dotted black;border-radius: 0.25em;box-sizing: border-box;margin-bottom: 0.5em;}#sk-container-id-26 div.sk-estimator:hover {background-color: #d4ebff;}#sk-container-id-26 div.sk-parallel-item::after {content: \"\";width: 100%;border-bottom: 1px solid gray;flex-grow: 1;}#sk-container-id-26 div.sk-label:hover label.sk-toggleable__label {background-color: #d4ebff;}#sk-container-id-26 div.sk-serial::before {content: \"\";position: absolute;border-left: 1px solid gray;box-sizing: border-box;top: 0;bottom: 0;left: 50%;z-index: 0;}#sk-container-id-26 div.sk-serial {display: flex;flex-direction: column;align-items: center;background-color: white;padding-right: 0.2em;padding-left: 0.2em;position: relative;}#sk-container-id-26 div.sk-item {position: relative;z-index: 1;}#sk-container-id-26 div.sk-parallel {display: flex;align-items: stretch;justify-content: center;background-color: white;position: relative;}#sk-container-id-26 div.sk-item::before, #sk-container-id-26 div.sk-parallel-item::before {content: \"\";position: absolute;border-left: 1px solid gray;box-sizing: border-box;top: 0;bottom: 0;left: 50%;z-index: -1;}#sk-container-id-26 div.sk-parallel-item {display: flex;flex-direction: column;z-index: 1;position: relative;background-color: white;}#sk-container-id-26 div.sk-parallel-item:first-child::after {align-self: flex-end;width: 50%;}#sk-container-id-26 div.sk-parallel-item:last-child::after {align-self: flex-start;width: 50%;}#sk-container-id-26 div.sk-parallel-item:only-child::after {width: 0;}#sk-container-id-26 div.sk-dashed-wrapped {border: 1px dashed gray;margin: 0 0.4em 0.5em 0.4em;box-sizing: border-box;padding-bottom: 0.4em;background-color: white;}#sk-container-id-26 div.sk-label label {font-family: monospace;font-weight: bold;display: inline-block;line-height: 1.2em;}#sk-container-id-26 div.sk-label-container {text-align: center;}#sk-container-id-26 div.sk-container {/* jupyter's `normalize.less` sets `[hidden] { display: none; }` but bootstrap.min.css set `[hidden] { display: none !important; }` so we also need the `!important` here to be able to override the default hidden behavior on the sphinx rendered scikit-learn.org. See: https://github.com/scikit-learn/scikit-learn/issues/21755 */display: inline-block !important;position: relative;}#sk-container-id-26 div.sk-text-repr-fallback {display: none;}</style><div id=\"sk-container-id-26\" class=\"sk-top-container\"><div class=\"sk-text-repr-fallback\"><pre>DecisionTreeClassifier(max_depth=2, max_features=3, min_samples_leaf=10,\n",
       "                       min_samples_split=35)</pre><b>In a Jupyter environment, please rerun this cell to show the HTML representation or trust the notebook. <br />On GitHub, the HTML representation is unable to render, please try loading this page with nbviewer.org.</b></div><div class=\"sk-container\" hidden><div class=\"sk-item\"><div class=\"sk-estimator sk-toggleable\"><input class=\"sk-toggleable__control sk-hidden--visually\" id=\"sk-estimator-id-26\" type=\"checkbox\" checked><label for=\"sk-estimator-id-26\" class=\"sk-toggleable__label sk-toggleable__label-arrow\">DecisionTreeClassifier</label><div class=\"sk-toggleable__content\"><pre>DecisionTreeClassifier(max_depth=2, max_features=3, min_samples_leaf=10,\n",
       "                       min_samples_split=35)</pre></div></div></div></div></div>"
      ],
      "text/plain": [
       "DecisionTreeClassifier(max_depth=2, max_features=3, min_samples_leaf=10,\n",
       "                       min_samples_split=35)"
      ]
     },
     "execution_count": 110,
     "metadata": {},
     "output_type": "execute_result"
    }
   ],
   "source": [
    "from sklearn.tree import DecisionTreeClassifier\n",
    "\n",
    "clf_DT = DecisionTreeClassifier(max_depth=2,min_samples_leaf=10,min_samples_split=35,max_features=3)\n",
    "clf_DT.fit(x_train, y_train)"
   ]
  },
  {
   "cell_type": "code",
   "execution_count": 111,
   "metadata": {},
   "outputs": [
    {
     "name": "stdout",
     "output_type": "stream",
     "text": [
      "Training Accuracy: 0.8302735106781566\n",
      "Training F1 Score: 0.5885558583106266\n",
      "Training Recall: 0.47577092511013214\n",
      "Training Precision: 0.7714285714285715\n",
      "Confusion Matrix for training data: \n",
      " [[1892   96]\n",
      " [ 357  324]]\n",
      "Testing Accuracy: 0.8263473053892215\n",
      "Testing F1 Score: 0.6081081081081082\n",
      "Testing Recall: 0.4891304347826087\n",
      "Testing Precision: 0.8035714285714286\n",
      "\n",
      " Confusion Matrix for testing data: \n",
      " [[462  22]\n",
      " [ 94  90]]\n"
     ]
    }
   ],
   "source": [
    "model = clf_DT\n",
    "y_train_pred = model.predict(x_train)\n",
    "y_test_pred = model.predict(x_test)\n",
    "# Model Evaluation\n",
    "print(\"Training Accuracy:\", accuracy_score(y_train,y_train_pred))\n",
    "print(\"Training F1 Score:\", f1_score(y_train,y_train_pred))\n",
    "print(\"Training Recall:\", recall_score(y_train,y_train_pred))\n",
    "print(\"Training Precision:\", precision_score(y_train,y_train_pred))\n",
    "print('Confusion Matrix for training data: \\n',confusion_matrix(y_train, y_train_pred))\n",
    "\n",
    "print(\"Testing Accuracy:\", accuracy_score(y_test,y_test_pred))\n",
    "print(\"Testing F1 Score:\", f1_score(y_test,y_test_pred))\n",
    "print(\"Testing Recall:\", recall_score(y_test,y_test_pred))\n",
    "print(\"Testing Precision:\", precision_score(y_test,y_test_pred))\n",
    "print('\\n Confusion Matrix for testing data: \\n',confusion_matrix(y_test, y_test_pred))"
   ]
  },
  {
   "cell_type": "markdown",
   "metadata": {},
   "source": [
    "## Random Forest Model (RF)"
   ]
  },
  {
   "cell_type": "code",
   "execution_count": 120,
   "metadata": {},
   "outputs": [
    {
     "data": {
      "text/html": [
       "<style>#sk-container-id-31 {color: black;background-color: white;}#sk-container-id-31 pre{padding: 0;}#sk-container-id-31 div.sk-toggleable {background-color: white;}#sk-container-id-31 label.sk-toggleable__label {cursor: pointer;display: block;width: 100%;margin-bottom: 0;padding: 0.3em;box-sizing: border-box;text-align: center;}#sk-container-id-31 label.sk-toggleable__label-arrow:before {content: \"▸\";float: left;margin-right: 0.25em;color: #696969;}#sk-container-id-31 label.sk-toggleable__label-arrow:hover:before {color: black;}#sk-container-id-31 div.sk-estimator:hover label.sk-toggleable__label-arrow:before {color: black;}#sk-container-id-31 div.sk-toggleable__content {max-height: 0;max-width: 0;overflow: hidden;text-align: left;background-color: #f0f8ff;}#sk-container-id-31 div.sk-toggleable__content pre {margin: 0.2em;color: black;border-radius: 0.25em;background-color: #f0f8ff;}#sk-container-id-31 input.sk-toggleable__control:checked~div.sk-toggleable__content {max-height: 200px;max-width: 100%;overflow: auto;}#sk-container-id-31 input.sk-toggleable__control:checked~label.sk-toggleable__label-arrow:before {content: \"▾\";}#sk-container-id-31 div.sk-estimator input.sk-toggleable__control:checked~label.sk-toggleable__label {background-color: #d4ebff;}#sk-container-id-31 div.sk-label input.sk-toggleable__control:checked~label.sk-toggleable__label {background-color: #d4ebff;}#sk-container-id-31 input.sk-hidden--visually {border: 0;clip: rect(1px 1px 1px 1px);clip: rect(1px, 1px, 1px, 1px);height: 1px;margin: -1px;overflow: hidden;padding: 0;position: absolute;width: 1px;}#sk-container-id-31 div.sk-estimator {font-family: monospace;background-color: #f0f8ff;border: 1px dotted black;border-radius: 0.25em;box-sizing: border-box;margin-bottom: 0.5em;}#sk-container-id-31 div.sk-estimator:hover {background-color: #d4ebff;}#sk-container-id-31 div.sk-parallel-item::after {content: \"\";width: 100%;border-bottom: 1px solid gray;flex-grow: 1;}#sk-container-id-31 div.sk-label:hover label.sk-toggleable__label {background-color: #d4ebff;}#sk-container-id-31 div.sk-serial::before {content: \"\";position: absolute;border-left: 1px solid gray;box-sizing: border-box;top: 0;bottom: 0;left: 50%;z-index: 0;}#sk-container-id-31 div.sk-serial {display: flex;flex-direction: column;align-items: center;background-color: white;padding-right: 0.2em;padding-left: 0.2em;position: relative;}#sk-container-id-31 div.sk-item {position: relative;z-index: 1;}#sk-container-id-31 div.sk-parallel {display: flex;align-items: stretch;justify-content: center;background-color: white;position: relative;}#sk-container-id-31 div.sk-item::before, #sk-container-id-31 div.sk-parallel-item::before {content: \"\";position: absolute;border-left: 1px solid gray;box-sizing: border-box;top: 0;bottom: 0;left: 50%;z-index: -1;}#sk-container-id-31 div.sk-parallel-item {display: flex;flex-direction: column;z-index: 1;position: relative;background-color: white;}#sk-container-id-31 div.sk-parallel-item:first-child::after {align-self: flex-end;width: 50%;}#sk-container-id-31 div.sk-parallel-item:last-child::after {align-self: flex-start;width: 50%;}#sk-container-id-31 div.sk-parallel-item:only-child::after {width: 0;}#sk-container-id-31 div.sk-dashed-wrapped {border: 1px dashed gray;margin: 0 0.4em 0.5em 0.4em;box-sizing: border-box;padding-bottom: 0.4em;background-color: white;}#sk-container-id-31 div.sk-label label {font-family: monospace;font-weight: bold;display: inline-block;line-height: 1.2em;}#sk-container-id-31 div.sk-label-container {text-align: center;}#sk-container-id-31 div.sk-container {/* jupyter's `normalize.less` sets `[hidden] { display: none; }` but bootstrap.min.css set `[hidden] { display: none !important; }` so we also need the `!important` here to be able to override the default hidden behavior on the sphinx rendered scikit-learn.org. See: https://github.com/scikit-learn/scikit-learn/issues/21755 */display: inline-block !important;position: relative;}#sk-container-id-31 div.sk-text-repr-fallback {display: none;}</style><div id=\"sk-container-id-31\" class=\"sk-top-container\"><div class=\"sk-text-repr-fallback\"><pre>RandomForestClassifier(max_depth=2, n_estimators=1000, n_jobs=-1,\n",
       "                       random_state=42)</pre><b>In a Jupyter environment, please rerun this cell to show the HTML representation or trust the notebook. <br />On GitHub, the HTML representation is unable to render, please try loading this page with nbviewer.org.</b></div><div class=\"sk-container\" hidden><div class=\"sk-item\"><div class=\"sk-estimator sk-toggleable\"><input class=\"sk-toggleable__control sk-hidden--visually\" id=\"sk-estimator-id-31\" type=\"checkbox\" checked><label for=\"sk-estimator-id-31\" class=\"sk-toggleable__label sk-toggleable__label-arrow\">RandomForestClassifier</label><div class=\"sk-toggleable__content\"><pre>RandomForestClassifier(max_depth=2, n_estimators=1000, n_jobs=-1,\n",
       "                       random_state=42)</pre></div></div></div></div></div>"
      ],
      "text/plain": [
       "RandomForestClassifier(max_depth=2, n_estimators=1000, n_jobs=-1,\n",
       "                       random_state=42)"
      ]
     },
     "execution_count": 120,
     "metadata": {},
     "output_type": "execute_result"
    }
   ],
   "source": [
    "from sklearn.ensemble import RandomForestClassifier\n",
    "\n",
    "clf_RF = RandomForestClassifier(n_estimators=1000,max_depth=2,n_jobs=-1,random_state=42)\n",
    "clf_RF.fit(x_train, y_train)"
   ]
  },
  {
   "cell_type": "code",
   "execution_count": 121,
   "metadata": {},
   "outputs": [
    {
     "name": "stdout",
     "output_type": "stream",
     "text": [
      "Training Accuracy: 0.8332708879730236\n",
      "Training F1 Score: 0.5482233502538071\n",
      "Training Recall: 0.3964757709251101\n",
      "Training Precision: 0.8881578947368421\n",
      "Confusion Matrix for training data: \n",
      " [[1954   34]\n",
      " [ 411  270]]\n",
      "Testing Accuracy: 0.8203592814371258\n",
      "Testing F1 Score: 0.5588235294117647\n",
      "Testing Recall: 0.41304347826086957\n",
      "Testing Precision: 0.8636363636363636\n",
      "\n",
      " Confusion Matrix for testing data: \n",
      " [[472  12]\n",
      " [108  76]]\n"
     ]
    }
   ],
   "source": [
    "model = clf_RF\n",
    "y_train_pred = model.predict(x_train)\n",
    "y_test_pred = model.predict(x_test)\n",
    "# Model Evaluation\n",
    "print(\"Training Accuracy:\", accuracy_score(y_train,y_train_pred))\n",
    "print(\"Training F1 Score:\", f1_score(y_train,y_train_pred))\n",
    "print(\"Training Recall:\", recall_score(y_train,y_train_pred))\n",
    "print(\"Training Precision:\", precision_score(y_train,y_train_pred))\n",
    "print('Confusion Matrix for training data: \\n',confusion_matrix(y_train, y_train_pred))\n",
    "\n",
    "print(\"Testing Accuracy:\", accuracy_score(y_test,y_test_pred))\n",
    "print(\"Testing F1 Score:\", f1_score(y_test,y_test_pred))\n",
    "print(\"Testing Recall:\", recall_score(y_test,y_test_pred))\n",
    "print(\"Testing Precision:\", precision_score(y_test,y_test_pred))\n",
    "print('\\n Confusion Matrix for testing data: \\n',confusion_matrix(y_test, y_test_pred))"
   ]
  },
  {
   "cell_type": "markdown",
   "metadata": {},
   "source": [
    "### Applying Grid Search For better performance"
   ]
  },
  {
   "cell_type": "code",
   "execution_count": 141,
   "metadata": {},
   "outputs": [
    {
     "name": "stderr",
     "output_type": "stream",
     "text": [
      "[Parallel(n_jobs=1)]: Using backend SequentialBackend with 1 concurrent workers.\n",
      "[Parallel(n_jobs=1)]: Done 250 out of 250 | elapsed:    0.9s finished\n"
     ]
    },
    {
     "data": {
      "text/html": [
       "<style>#sk-container-id-41 {color: black;background-color: white;}#sk-container-id-41 pre{padding: 0;}#sk-container-id-41 div.sk-toggleable {background-color: white;}#sk-container-id-41 label.sk-toggleable__label {cursor: pointer;display: block;width: 100%;margin-bottom: 0;padding: 0.3em;box-sizing: border-box;text-align: center;}#sk-container-id-41 label.sk-toggleable__label-arrow:before {content: \"▸\";float: left;margin-right: 0.25em;color: #696969;}#sk-container-id-41 label.sk-toggleable__label-arrow:hover:before {color: black;}#sk-container-id-41 div.sk-estimator:hover label.sk-toggleable__label-arrow:before {color: black;}#sk-container-id-41 div.sk-toggleable__content {max-height: 0;max-width: 0;overflow: hidden;text-align: left;background-color: #f0f8ff;}#sk-container-id-41 div.sk-toggleable__content pre {margin: 0.2em;color: black;border-radius: 0.25em;background-color: #f0f8ff;}#sk-container-id-41 input.sk-toggleable__control:checked~div.sk-toggleable__content {max-height: 200px;max-width: 100%;overflow: auto;}#sk-container-id-41 input.sk-toggleable__control:checked~label.sk-toggleable__label-arrow:before {content: \"▾\";}#sk-container-id-41 div.sk-estimator input.sk-toggleable__control:checked~label.sk-toggleable__label {background-color: #d4ebff;}#sk-container-id-41 div.sk-label input.sk-toggleable__control:checked~label.sk-toggleable__label {background-color: #d4ebff;}#sk-container-id-41 input.sk-hidden--visually {border: 0;clip: rect(1px 1px 1px 1px);clip: rect(1px, 1px, 1px, 1px);height: 1px;margin: -1px;overflow: hidden;padding: 0;position: absolute;width: 1px;}#sk-container-id-41 div.sk-estimator {font-family: monospace;background-color: #f0f8ff;border: 1px dotted black;border-radius: 0.25em;box-sizing: border-box;margin-bottom: 0.5em;}#sk-container-id-41 div.sk-estimator:hover {background-color: #d4ebff;}#sk-container-id-41 div.sk-parallel-item::after {content: \"\";width: 100%;border-bottom: 1px solid gray;flex-grow: 1;}#sk-container-id-41 div.sk-label:hover label.sk-toggleable__label {background-color: #d4ebff;}#sk-container-id-41 div.sk-serial::before {content: \"\";position: absolute;border-left: 1px solid gray;box-sizing: border-box;top: 0;bottom: 0;left: 50%;z-index: 0;}#sk-container-id-41 div.sk-serial {display: flex;flex-direction: column;align-items: center;background-color: white;padding-right: 0.2em;padding-left: 0.2em;position: relative;}#sk-container-id-41 div.sk-item {position: relative;z-index: 1;}#sk-container-id-41 div.sk-parallel {display: flex;align-items: stretch;justify-content: center;background-color: white;position: relative;}#sk-container-id-41 div.sk-item::before, #sk-container-id-41 div.sk-parallel-item::before {content: \"\";position: absolute;border-left: 1px solid gray;box-sizing: border-box;top: 0;bottom: 0;left: 50%;z-index: -1;}#sk-container-id-41 div.sk-parallel-item {display: flex;flex-direction: column;z-index: 1;position: relative;background-color: white;}#sk-container-id-41 div.sk-parallel-item:first-child::after {align-self: flex-end;width: 50%;}#sk-container-id-41 div.sk-parallel-item:last-child::after {align-self: flex-start;width: 50%;}#sk-container-id-41 div.sk-parallel-item:only-child::after {width: 0;}#sk-container-id-41 div.sk-dashed-wrapped {border: 1px dashed gray;margin: 0 0.4em 0.5em 0.4em;box-sizing: border-box;padding-bottom: 0.4em;background-color: white;}#sk-container-id-41 div.sk-label label {font-family: monospace;font-weight: bold;display: inline-block;line-height: 1.2em;}#sk-container-id-41 div.sk-label-container {text-align: center;}#sk-container-id-41 div.sk-container {/* jupyter's `normalize.less` sets `[hidden] { display: none; }` but bootstrap.min.css set `[hidden] { display: none !important; }` so we also need the `!important` here to be able to override the default hidden behavior on the sphinx rendered scikit-learn.org. See: https://github.com/scikit-learn/scikit-learn/issues/21755 */display: inline-block !important;position: relative;}#sk-container-id-41 div.sk-text-repr-fallback {display: none;}</style><div id=\"sk-container-id-41\" class=\"sk-top-container\"><div class=\"sk-text-repr-fallback\"><pre>GridSearchCV(cv=5,\n",
       "             estimator=RandomForestClassifier(n_estimators=250, random_state=42,\n",
       "                                              verbose=1),\n",
       "             n_jobs=-1,\n",
       "             param_grid={&#x27;max_depth&#x27;: [2, 3, 4, 5],\n",
       "                         &#x27;min_samples_leaf&#x27;: [8, 10, 12, 15],\n",
       "                         &#x27;min_samples_split&#x27;: range(10, 50, 2)},\n",
       "             scoring=&#x27;accuracy&#x27;)</pre><b>In a Jupyter environment, please rerun this cell to show the HTML representation or trust the notebook. <br />On GitHub, the HTML representation is unable to render, please try loading this page with nbviewer.org.</b></div><div class=\"sk-container\" hidden><div class=\"sk-item sk-dashed-wrapped\"><div class=\"sk-label-container\"><div class=\"sk-label sk-toggleable\"><input class=\"sk-toggleable__control sk-hidden--visually\" id=\"sk-estimator-id-47\" type=\"checkbox\" ><label for=\"sk-estimator-id-47\" class=\"sk-toggleable__label sk-toggleable__label-arrow\">GridSearchCV</label><div class=\"sk-toggleable__content\"><pre>GridSearchCV(cv=5,\n",
       "             estimator=RandomForestClassifier(n_estimators=250, random_state=42,\n",
       "                                              verbose=1),\n",
       "             n_jobs=-1,\n",
       "             param_grid={&#x27;max_depth&#x27;: [2, 3, 4, 5],\n",
       "                         &#x27;min_samples_leaf&#x27;: [8, 10, 12, 15],\n",
       "                         &#x27;min_samples_split&#x27;: range(10, 50, 2)},\n",
       "             scoring=&#x27;accuracy&#x27;)</pre></div></div></div><div class=\"sk-parallel\"><div class=\"sk-parallel-item\"><div class=\"sk-item\"><div class=\"sk-label-container\"><div class=\"sk-label sk-toggleable\"><input class=\"sk-toggleable__control sk-hidden--visually\" id=\"sk-estimator-id-48\" type=\"checkbox\" ><label for=\"sk-estimator-id-48\" class=\"sk-toggleable__label sk-toggleable__label-arrow\">estimator: RandomForestClassifier</label><div class=\"sk-toggleable__content\"><pre>RandomForestClassifier(n_estimators=250, random_state=42, verbose=1)</pre></div></div></div><div class=\"sk-serial\"><div class=\"sk-item\"><div class=\"sk-estimator sk-toggleable\"><input class=\"sk-toggleable__control sk-hidden--visually\" id=\"sk-estimator-id-49\" type=\"checkbox\" ><label for=\"sk-estimator-id-49\" class=\"sk-toggleable__label sk-toggleable__label-arrow\">RandomForestClassifier</label><div class=\"sk-toggleable__content\"><pre>RandomForestClassifier(n_estimators=250, random_state=42, verbose=1)</pre></div></div></div></div></div></div></div></div></div></div>"
      ],
      "text/plain": [
       "GridSearchCV(cv=5,\n",
       "             estimator=RandomForestClassifier(n_estimators=250, random_state=42,\n",
       "                                              verbose=1),\n",
       "             n_jobs=-1,\n",
       "             param_grid={'max_depth': [2, 3, 4, 5],\n",
       "                         'min_samples_leaf': [8, 10, 12, 15],\n",
       "                         'min_samples_split': range(10, 50, 2)},\n",
       "             scoring='accuracy')"
      ]
     },
     "execution_count": 141,
     "metadata": {},
     "output_type": "execute_result"
    }
   ],
   "source": [
    "from sklearn.model_selection import GridSearchCV\n",
    "\n",
    "rf_clf = RandomForestClassifier(n_estimators=250,random_state=42,verbose=1)\n",
    "params_grid = {'max_depth':[2,3,4,5],\n",
    "               'min_samples_split':range(10,50,2),\n",
    "               'min_samples_leaf':[8,10,12,15]}\n",
    "grid_search = GridSearchCV(rf_clf,params_grid,n_jobs=-1,cv=5,scoring='accuracy')\n",
    "\n",
    "grid_search.fit(x_train,y_train)"
   ]
  },
  {
   "cell_type": "code",
   "execution_count": 152,
   "metadata": {},
   "outputs": [
    {
     "name": "stdout",
     "output_type": "stream",
     "text": [
      "{'colsample_bytree': 0.8, 'gamma': 0.3, 'max_depth': 4, 'reg_alpha': 1, 'subsample': 0.9}\n",
      "Training Accuracy: 0.8842263019857625\n",
      "Training F1 Score: 0.7383573243014395\n",
      "Training Recall: 0.6402349486049926\n",
      "Training Precision: 0.872\n",
      "Confusion Matrix for training data: \n",
      " [[1924   64]\n",
      " [ 245  436]]\n",
      "Testing Accuracy: 0.8173652694610778\n",
      "Testing F1 Score: 0.6303030303030301\n",
      "Testing Recall: 0.5652173913043478\n",
      "Testing Precision: 0.7123287671232876\n",
      "\n",
      " Confusion Matrix for testing data: \n",
      " [[442  42]\n",
      " [ 80 104]]\n"
     ]
    }
   ],
   "source": [
    "model = grid_search.best_estimator_\n",
    "best_rf_model = model\n",
    "print(grid_search.best_params_)\n",
    "y_train_pred = model.predict(x_train)\n",
    "y_test_pred = model.predict(x_test)\n",
    "# Model Evaluation\n",
    "print(\"Training Accuracy:\", accuracy_score(y_train,y_train_pred))\n",
    "print(\"Training F1 Score:\", f1_score(y_train,y_train_pred))\n",
    "print(\"Training Recall:\", recall_score(y_train,y_train_pred))\n",
    "print(\"Training Precision:\", precision_score(y_train,y_train_pred))\n",
    "print('Confusion Matrix for training data: \\n',confusion_matrix(y_train, y_train_pred))\n",
    "\n",
    "print(\"Testing Accuracy:\", accuracy_score(y_test,y_test_pred))\n",
    "print(\"Testing F1 Score:\", f1_score(y_test,y_test_pred))\n",
    "print(\"Testing Recall:\", recall_score(y_test,y_test_pred))\n",
    "print(\"Testing Precision:\", precision_score(y_test,y_test_pred))\n",
    "print('\\n Confusion Matrix for testing data: \\n',confusion_matrix(y_test, y_test_pred))"
   ]
  },
  {
   "cell_type": "markdown",
   "metadata": {},
   "source": [
    "## XG Boost Model (XGB)"
   ]
  },
  {
   "cell_type": "code",
   "execution_count": 129,
   "metadata": {},
   "outputs": [
    {
     "data": {
      "text/html": [
       "<style>#sk-container-id-36 {color: black;background-color: white;}#sk-container-id-36 pre{padding: 0;}#sk-container-id-36 div.sk-toggleable {background-color: white;}#sk-container-id-36 label.sk-toggleable__label {cursor: pointer;display: block;width: 100%;margin-bottom: 0;padding: 0.3em;box-sizing: border-box;text-align: center;}#sk-container-id-36 label.sk-toggleable__label-arrow:before {content: \"▸\";float: left;margin-right: 0.25em;color: #696969;}#sk-container-id-36 label.sk-toggleable__label-arrow:hover:before {color: black;}#sk-container-id-36 div.sk-estimator:hover label.sk-toggleable__label-arrow:before {color: black;}#sk-container-id-36 div.sk-toggleable__content {max-height: 0;max-width: 0;overflow: hidden;text-align: left;background-color: #f0f8ff;}#sk-container-id-36 div.sk-toggleable__content pre {margin: 0.2em;color: black;border-radius: 0.25em;background-color: #f0f8ff;}#sk-container-id-36 input.sk-toggleable__control:checked~div.sk-toggleable__content {max-height: 200px;max-width: 100%;overflow: auto;}#sk-container-id-36 input.sk-toggleable__control:checked~label.sk-toggleable__label-arrow:before {content: \"▾\";}#sk-container-id-36 div.sk-estimator input.sk-toggleable__control:checked~label.sk-toggleable__label {background-color: #d4ebff;}#sk-container-id-36 div.sk-label input.sk-toggleable__control:checked~label.sk-toggleable__label {background-color: #d4ebff;}#sk-container-id-36 input.sk-hidden--visually {border: 0;clip: rect(1px 1px 1px 1px);clip: rect(1px, 1px, 1px, 1px);height: 1px;margin: -1px;overflow: hidden;padding: 0;position: absolute;width: 1px;}#sk-container-id-36 div.sk-estimator {font-family: monospace;background-color: #f0f8ff;border: 1px dotted black;border-radius: 0.25em;box-sizing: border-box;margin-bottom: 0.5em;}#sk-container-id-36 div.sk-estimator:hover {background-color: #d4ebff;}#sk-container-id-36 div.sk-parallel-item::after {content: \"\";width: 100%;border-bottom: 1px solid gray;flex-grow: 1;}#sk-container-id-36 div.sk-label:hover label.sk-toggleable__label {background-color: #d4ebff;}#sk-container-id-36 div.sk-serial::before {content: \"\";position: absolute;border-left: 1px solid gray;box-sizing: border-box;top: 0;bottom: 0;left: 50%;z-index: 0;}#sk-container-id-36 div.sk-serial {display: flex;flex-direction: column;align-items: center;background-color: white;padding-right: 0.2em;padding-left: 0.2em;position: relative;}#sk-container-id-36 div.sk-item {position: relative;z-index: 1;}#sk-container-id-36 div.sk-parallel {display: flex;align-items: stretch;justify-content: center;background-color: white;position: relative;}#sk-container-id-36 div.sk-item::before, #sk-container-id-36 div.sk-parallel-item::before {content: \"\";position: absolute;border-left: 1px solid gray;box-sizing: border-box;top: 0;bottom: 0;left: 50%;z-index: -1;}#sk-container-id-36 div.sk-parallel-item {display: flex;flex-direction: column;z-index: 1;position: relative;background-color: white;}#sk-container-id-36 div.sk-parallel-item:first-child::after {align-self: flex-end;width: 50%;}#sk-container-id-36 div.sk-parallel-item:last-child::after {align-self: flex-start;width: 50%;}#sk-container-id-36 div.sk-parallel-item:only-child::after {width: 0;}#sk-container-id-36 div.sk-dashed-wrapped {border: 1px dashed gray;margin: 0 0.4em 0.5em 0.4em;box-sizing: border-box;padding-bottom: 0.4em;background-color: white;}#sk-container-id-36 div.sk-label label {font-family: monospace;font-weight: bold;display: inline-block;line-height: 1.2em;}#sk-container-id-36 div.sk-label-container {text-align: center;}#sk-container-id-36 div.sk-container {/* jupyter's `normalize.less` sets `[hidden] { display: none; }` but bootstrap.min.css set `[hidden] { display: none !important; }` so we also need the `!important` here to be able to override the default hidden behavior on the sphinx rendered scikit-learn.org. See: https://github.com/scikit-learn/scikit-learn/issues/21755 */display: inline-block !important;position: relative;}#sk-container-id-36 div.sk-text-repr-fallback {display: none;}</style><div id=\"sk-container-id-36\" class=\"sk-top-container\"><div class=\"sk-text-repr-fallback\"><pre>XGBClassifier(base_score=None, booster=None, callbacks=None,\n",
       "              colsample_bylevel=None, colsample_bynode=None,\n",
       "              colsample_bytree=None, device=None, early_stopping_rounds=None,\n",
       "              enable_categorical=False, eval_metric=None, feature_types=None,\n",
       "              gamma=None, grow_policy=None, importance_type=None,\n",
       "              interaction_constraints=None, learning_rate=0.1, max_bin=None,\n",
       "              max_cat_threshold=None, max_cat_to_onehot=None,\n",
       "              max_delta_step=None, max_depth=2, max_leaves=None,\n",
       "              min_child_weight=None, missing=nan, monotone_constraints=None,\n",
       "              multi_strategy=None, n_estimators=1000, n_jbos=-1, n_jobs=None,\n",
       "              num_parallel_tree=None, ...)</pre><b>In a Jupyter environment, please rerun this cell to show the HTML representation or trust the notebook. <br />On GitHub, the HTML representation is unable to render, please try loading this page with nbviewer.org.</b></div><div class=\"sk-container\" hidden><div class=\"sk-item\"><div class=\"sk-estimator sk-toggleable\"><input class=\"sk-toggleable__control sk-hidden--visually\" id=\"sk-estimator-id-36\" type=\"checkbox\" checked><label for=\"sk-estimator-id-36\" class=\"sk-toggleable__label sk-toggleable__label-arrow\">XGBClassifier</label><div class=\"sk-toggleable__content\"><pre>XGBClassifier(base_score=None, booster=None, callbacks=None,\n",
       "              colsample_bylevel=None, colsample_bynode=None,\n",
       "              colsample_bytree=None, device=None, early_stopping_rounds=None,\n",
       "              enable_categorical=False, eval_metric=None, feature_types=None,\n",
       "              gamma=None, grow_policy=None, importance_type=None,\n",
       "              interaction_constraints=None, learning_rate=0.1, max_bin=None,\n",
       "              max_cat_threshold=None, max_cat_to_onehot=None,\n",
       "              max_delta_step=None, max_depth=2, max_leaves=None,\n",
       "              min_child_weight=None, missing=nan, monotone_constraints=None,\n",
       "              multi_strategy=None, n_estimators=1000, n_jbos=-1, n_jobs=None,\n",
       "              num_parallel_tree=None, ...)</pre></div></div></div></div></div>"
      ],
      "text/plain": [
       "XGBClassifier(base_score=None, booster=None, callbacks=None,\n",
       "              colsample_bylevel=None, colsample_bynode=None,\n",
       "              colsample_bytree=None, device=None, early_stopping_rounds=None,\n",
       "              enable_categorical=False, eval_metric=None, feature_types=None,\n",
       "              gamma=None, grow_policy=None, importance_type=None,\n",
       "              interaction_constraints=None, learning_rate=0.1, max_bin=None,\n",
       "              max_cat_threshold=None, max_cat_to_onehot=None,\n",
       "              max_delta_step=None, max_depth=2, max_leaves=None,\n",
       "              min_child_weight=None, missing=nan, monotone_constraints=None,\n",
       "              multi_strategy=None, n_estimators=1000, n_jbos=-1, n_jobs=None,\n",
       "              num_parallel_tree=None, ...)"
      ]
     },
     "execution_count": 129,
     "metadata": {},
     "output_type": "execute_result"
    }
   ],
   "source": [
    "import xgboost as XGB\n",
    "\n",
    "clf_XGB = XGB.XGBClassifier(max_depth = 2,n_estimators = 1000, learning_rate = 0.1, n_jbos = -1)\n",
    "clf_XGB.fit(x_train, y_train)"
   ]
  },
  {
   "cell_type": "code",
   "execution_count": 130,
   "metadata": {},
   "outputs": [
    {
     "name": "stdout",
     "output_type": "stream",
     "text": [
      "Training Accuracy: 0.9007118771075309\n",
      "Training F1 Score: 0.7793505412156536\n",
      "Training Recall: 0.6872246696035242\n",
      "Training Precision: 0.9\n",
      "Confusion Matrix for training data: \n",
      " [[1936   52]\n",
      " [ 213  468]]\n",
      "Testing Accuracy: 0.8203592814371258\n",
      "Testing F1 Score: 0.6449704142011834\n",
      "Testing Recall: 0.592391304347826\n",
      "Testing Precision: 0.7077922077922078\n",
      "\n",
      " Confusion Matrix for testing data: \n",
      " [[439  45]\n",
      " [ 75 109]]\n"
     ]
    }
   ],
   "source": [
    "model = clf_XGB\n",
    "y_train_pred = model.predict(x_train)\n",
    "y_test_pred = model.predict(x_test)\n",
    "# Model Evaluation\n",
    "print(\"Training Accuracy:\", accuracy_score(y_train,y_train_pred))\n",
    "print(\"Training F1 Score:\", f1_score(y_train,y_train_pred))\n",
    "print(\"Training Recall:\", recall_score(y_train,y_train_pred))\n",
    "print(\"Training Precision:\", precision_score(y_train,y_train_pred))\n",
    "print('Confusion Matrix for training data: \\n',confusion_matrix(y_train, y_train_pred))\n",
    "\n",
    "print(\"Testing Accuracy:\", accuracy_score(y_test,y_test_pred))\n",
    "print(\"Testing F1 Score:\", f1_score(y_test,y_test_pred))\n",
    "print(\"Testing Recall:\", recall_score(y_test,y_test_pred))\n",
    "print(\"Testing Precision:\", precision_score(y_test,y_test_pred))\n",
    "print('\\n Confusion Matrix for testing data: \\n',confusion_matrix(y_test, y_test_pred))"
   ]
  },
  {
   "cell_type": "markdown",
   "metadata": {},
   "source": [
    "### Applying Grid Search For better performance"
   ]
  },
  {
   "cell_type": "code",
   "execution_count": 148,
   "metadata": {},
   "outputs": [
    {
     "data": {
      "text/html": [
       "<style>#sk-container-id-44 {color: black;background-color: white;}#sk-container-id-44 pre{padding: 0;}#sk-container-id-44 div.sk-toggleable {background-color: white;}#sk-container-id-44 label.sk-toggleable__label {cursor: pointer;display: block;width: 100%;margin-bottom: 0;padding: 0.3em;box-sizing: border-box;text-align: center;}#sk-container-id-44 label.sk-toggleable__label-arrow:before {content: \"▸\";float: left;margin-right: 0.25em;color: #696969;}#sk-container-id-44 label.sk-toggleable__label-arrow:hover:before {color: black;}#sk-container-id-44 div.sk-estimator:hover label.sk-toggleable__label-arrow:before {color: black;}#sk-container-id-44 div.sk-toggleable__content {max-height: 0;max-width: 0;overflow: hidden;text-align: left;background-color: #f0f8ff;}#sk-container-id-44 div.sk-toggleable__content pre {margin: 0.2em;color: black;border-radius: 0.25em;background-color: #f0f8ff;}#sk-container-id-44 input.sk-toggleable__control:checked~div.sk-toggleable__content {max-height: 200px;max-width: 100%;overflow: auto;}#sk-container-id-44 input.sk-toggleable__control:checked~label.sk-toggleable__label-arrow:before {content: \"▾\";}#sk-container-id-44 div.sk-estimator input.sk-toggleable__control:checked~label.sk-toggleable__label {background-color: #d4ebff;}#sk-container-id-44 div.sk-label input.sk-toggleable__control:checked~label.sk-toggleable__label {background-color: #d4ebff;}#sk-container-id-44 input.sk-hidden--visually {border: 0;clip: rect(1px 1px 1px 1px);clip: rect(1px, 1px, 1px, 1px);height: 1px;margin: -1px;overflow: hidden;padding: 0;position: absolute;width: 1px;}#sk-container-id-44 div.sk-estimator {font-family: monospace;background-color: #f0f8ff;border: 1px dotted black;border-radius: 0.25em;box-sizing: border-box;margin-bottom: 0.5em;}#sk-container-id-44 div.sk-estimator:hover {background-color: #d4ebff;}#sk-container-id-44 div.sk-parallel-item::after {content: \"\";width: 100%;border-bottom: 1px solid gray;flex-grow: 1;}#sk-container-id-44 div.sk-label:hover label.sk-toggleable__label {background-color: #d4ebff;}#sk-container-id-44 div.sk-serial::before {content: \"\";position: absolute;border-left: 1px solid gray;box-sizing: border-box;top: 0;bottom: 0;left: 50%;z-index: 0;}#sk-container-id-44 div.sk-serial {display: flex;flex-direction: column;align-items: center;background-color: white;padding-right: 0.2em;padding-left: 0.2em;position: relative;}#sk-container-id-44 div.sk-item {position: relative;z-index: 1;}#sk-container-id-44 div.sk-parallel {display: flex;align-items: stretch;justify-content: center;background-color: white;position: relative;}#sk-container-id-44 div.sk-item::before, #sk-container-id-44 div.sk-parallel-item::before {content: \"\";position: absolute;border-left: 1px solid gray;box-sizing: border-box;top: 0;bottom: 0;left: 50%;z-index: -1;}#sk-container-id-44 div.sk-parallel-item {display: flex;flex-direction: column;z-index: 1;position: relative;background-color: white;}#sk-container-id-44 div.sk-parallel-item:first-child::after {align-self: flex-end;width: 50%;}#sk-container-id-44 div.sk-parallel-item:last-child::after {align-self: flex-start;width: 50%;}#sk-container-id-44 div.sk-parallel-item:only-child::after {width: 0;}#sk-container-id-44 div.sk-dashed-wrapped {border: 1px dashed gray;margin: 0 0.4em 0.5em 0.4em;box-sizing: border-box;padding-bottom: 0.4em;background-color: white;}#sk-container-id-44 div.sk-label label {font-family: monospace;font-weight: bold;display: inline-block;line-height: 1.2em;}#sk-container-id-44 div.sk-label-container {text-align: center;}#sk-container-id-44 div.sk-container {/* jupyter's `normalize.less` sets `[hidden] { display: none; }` but bootstrap.min.css set `[hidden] { display: none !important; }` so we also need the `!important` here to be able to override the default hidden behavior on the sphinx rendered scikit-learn.org. See: https://github.com/scikit-learn/scikit-learn/issues/21755 */display: inline-block !important;position: relative;}#sk-container-id-44 div.sk-text-repr-fallback {display: none;}</style><div id=\"sk-container-id-44\" class=\"sk-top-container\"><div class=\"sk-text-repr-fallback\"><pre>GridSearchCV(cv=5,\n",
       "             estimator=XGBClassifier(base_score=None, booster=None,\n",
       "                                     callbacks=None, colsample_bylevel=None,\n",
       "                                     colsample_bynode=None,\n",
       "                                     colsample_bytree=None, device=None,\n",
       "                                     early_stopping_rounds=None,\n",
       "                                     enable_categorical=False, eval_metric=None,\n",
       "                                     feature_types=None, gamma=None,\n",
       "                                     grow_policy=None, importance_type=None,\n",
       "                                     interaction_constraints=None,\n",
       "                                     learning_rate=0.1, m...\n",
       "                                     max_delta_step=None, max_depth=None,\n",
       "                                     max_leaves=None, min_child_weight=None,\n",
       "                                     missing=nan, monotone_constraints=None,\n",
       "                                     multi_strategy=None, n_estimator=1000,\n",
       "                                     n_estimators=None, n_jobs=None,\n",
       "                                     num_parallel_tree=None, ...),\n",
       "             n_jobs=-1,\n",
       "             param_grid={&#x27;colsample_bytree&#x27;: [0.8, 0.9],\n",
       "                         &#x27;gamma&#x27;: [0.1, 0.2, 0.3], &#x27;max_depth&#x27;: [2, 3, 4],\n",
       "                         &#x27;reg_alpha&#x27;: [0.01, 0.1, 1], &#x27;subsample&#x27;: [0.8, 0.9]},\n",
       "             scoring=&#x27;accuracy&#x27;)</pre><b>In a Jupyter environment, please rerun this cell to show the HTML representation or trust the notebook. <br />On GitHub, the HTML representation is unable to render, please try loading this page with nbviewer.org.</b></div><div class=\"sk-container\" hidden><div class=\"sk-item sk-dashed-wrapped\"><div class=\"sk-label-container\"><div class=\"sk-label sk-toggleable\"><input class=\"sk-toggleable__control sk-hidden--visually\" id=\"sk-estimator-id-56\" type=\"checkbox\" ><label for=\"sk-estimator-id-56\" class=\"sk-toggleable__label sk-toggleable__label-arrow\">GridSearchCV</label><div class=\"sk-toggleable__content\"><pre>GridSearchCV(cv=5,\n",
       "             estimator=XGBClassifier(base_score=None, booster=None,\n",
       "                                     callbacks=None, colsample_bylevel=None,\n",
       "                                     colsample_bynode=None,\n",
       "                                     colsample_bytree=None, device=None,\n",
       "                                     early_stopping_rounds=None,\n",
       "                                     enable_categorical=False, eval_metric=None,\n",
       "                                     feature_types=None, gamma=None,\n",
       "                                     grow_policy=None, importance_type=None,\n",
       "                                     interaction_constraints=None,\n",
       "                                     learning_rate=0.1, m...\n",
       "                                     max_delta_step=None, max_depth=None,\n",
       "                                     max_leaves=None, min_child_weight=None,\n",
       "                                     missing=nan, monotone_constraints=None,\n",
       "                                     multi_strategy=None, n_estimator=1000,\n",
       "                                     n_estimators=None, n_jobs=None,\n",
       "                                     num_parallel_tree=None, ...),\n",
       "             n_jobs=-1,\n",
       "             param_grid={&#x27;colsample_bytree&#x27;: [0.8, 0.9],\n",
       "                         &#x27;gamma&#x27;: [0.1, 0.2, 0.3], &#x27;max_depth&#x27;: [2, 3, 4],\n",
       "                         &#x27;reg_alpha&#x27;: [0.01, 0.1, 1], &#x27;subsample&#x27;: [0.8, 0.9]},\n",
       "             scoring=&#x27;accuracy&#x27;)</pre></div></div></div><div class=\"sk-parallel\"><div class=\"sk-parallel-item\"><div class=\"sk-item\"><div class=\"sk-label-container\"><div class=\"sk-label sk-toggleable\"><input class=\"sk-toggleable__control sk-hidden--visually\" id=\"sk-estimator-id-57\" type=\"checkbox\" ><label for=\"sk-estimator-id-57\" class=\"sk-toggleable__label sk-toggleable__label-arrow\">estimator: XGBClassifier</label><div class=\"sk-toggleable__content\"><pre>XGBClassifier(base_score=None, booster=None, callbacks=None,\n",
       "              colsample_bylevel=None, colsample_bynode=None,\n",
       "              colsample_bytree=None, device=None, early_stopping_rounds=None,\n",
       "              enable_categorical=False, eval_metric=None, feature_types=None,\n",
       "              gamma=None, grow_policy=None, importance_type=None,\n",
       "              interaction_constraints=None, learning_rate=0.1, max_bin=None,\n",
       "              max_cat_threshold=None, max_cat_to_onehot=None,\n",
       "              max_delta_step=None, max_depth=None, max_leaves=None,\n",
       "              min_child_weight=None, missing=nan, monotone_constraints=None,\n",
       "              multi_strategy=None, n_estimator=1000, n_estimators=None,\n",
       "              n_jobs=None, num_parallel_tree=None, ...)</pre></div></div></div><div class=\"sk-serial\"><div class=\"sk-item\"><div class=\"sk-estimator sk-toggleable\"><input class=\"sk-toggleable__control sk-hidden--visually\" id=\"sk-estimator-id-58\" type=\"checkbox\" ><label for=\"sk-estimator-id-58\" class=\"sk-toggleable__label sk-toggleable__label-arrow\">XGBClassifier</label><div class=\"sk-toggleable__content\"><pre>XGBClassifier(base_score=None, booster=None, callbacks=None,\n",
       "              colsample_bylevel=None, colsample_bynode=None,\n",
       "              colsample_bytree=None, device=None, early_stopping_rounds=None,\n",
       "              enable_categorical=False, eval_metric=None, feature_types=None,\n",
       "              gamma=None, grow_policy=None, importance_type=None,\n",
       "              interaction_constraints=None, learning_rate=0.1, max_bin=None,\n",
       "              max_cat_threshold=None, max_cat_to_onehot=None,\n",
       "              max_delta_step=None, max_depth=None, max_leaves=None,\n",
       "              min_child_weight=None, missing=nan, monotone_constraints=None,\n",
       "              multi_strategy=None, n_estimator=1000, n_estimators=None,\n",
       "              n_jobs=None, num_parallel_tree=None, ...)</pre></div></div></div></div></div></div></div></div></div></div>"
      ],
      "text/plain": [
       "GridSearchCV(cv=5,\n",
       "             estimator=XGBClassifier(base_score=None, booster=None,\n",
       "                                     callbacks=None, colsample_bylevel=None,\n",
       "                                     colsample_bynode=None,\n",
       "                                     colsample_bytree=None, device=None,\n",
       "                                     early_stopping_rounds=None,\n",
       "                                     enable_categorical=False, eval_metric=None,\n",
       "                                     feature_types=None, gamma=None,\n",
       "                                     grow_policy=None, importance_type=None,\n",
       "                                     interaction_constraints=None,\n",
       "                                     learning_rate=0.1, m...\n",
       "                                     max_delta_step=None, max_depth=None,\n",
       "                                     max_leaves=None, min_child_weight=None,\n",
       "                                     missing=nan, monotone_constraints=None,\n",
       "                                     multi_strategy=None, n_estimator=1000,\n",
       "                                     n_estimators=None, n_jobs=None,\n",
       "                                     num_parallel_tree=None, ...),\n",
       "             n_jobs=-1,\n",
       "             param_grid={'colsample_bytree': [0.8, 0.9],\n",
       "                         'gamma': [0.1, 0.2, 0.3], 'max_depth': [2, 3, 4],\n",
       "                         'reg_alpha': [0.01, 0.1, 1], 'subsample': [0.8, 0.9]},\n",
       "             scoring='accuracy')"
      ]
     },
     "execution_count": 148,
     "metadata": {},
     "output_type": "execute_result"
    }
   ],
   "source": [
    "xgb_clf = XGB.XGBClassifier(n_estimator = 1000,learning_rate = 0.1,random_state = 42)\n",
    "params_test1 = {'gamma':[0.1,0.2,0.3],\n",
    "              'max_depth':[2,3,4],\n",
    "              'subsample':[0.8,0.9],\n",
    "              'colsample_bytree':[0.8,0.9],\n",
    "              'reg_alpha':[1e-2,.1,1]}\n",
    "grid_search = GridSearchCV(xgb_clf,params_test1,n_jobs=-1,cv=5,scoring='accuracy')\n",
    "\n",
    "grid_search.fit(x_train,y_train)"
   ]
  },
  {
   "cell_type": "code",
   "execution_count": 150,
   "metadata": {},
   "outputs": [
    {
     "name": "stdout",
     "output_type": "stream",
     "text": [
      "{'colsample_bytree': 0.8, 'gamma': 0.3, 'max_depth': 4, 'reg_alpha': 1, 'subsample': 0.9}\n",
      "Training Accuracy: 0.8842263019857625\n",
      "Training F1 Score: 0.7383573243014395\n",
      "Training Recall: 0.6402349486049926\n",
      "Training Precision: 0.872\n",
      "Confusion Matrix for training data: \n",
      " [[1924   64]\n",
      " [ 245  436]]\n",
      "Testing Accuracy: 0.8173652694610778\n",
      "Testing F1 Score: 0.6303030303030301\n",
      "Testing Recall: 0.5652173913043478\n",
      "Testing Precision: 0.7123287671232876\n",
      "\n",
      " Confusion Matrix for testing data: \n",
      " [[442  42]\n",
      " [ 80 104]]\n"
     ]
    }
   ],
   "source": [
    "model = grid_search.best_estimator_\n",
    "print(grid_search.best_params_)\n",
    "y_train_pred = model.predict(x_train)\n",
    "y_test_pred = model.predict(x_test)\n",
    "# Model Evaluation\n",
    "print(\"Training Accuracy:\", accuracy_score(y_train,y_train_pred))\n",
    "print(\"Training F1 Score:\", f1_score(y_train,y_train_pred))\n",
    "print(\"Training Recall:\", recall_score(y_train,y_train_pred))\n",
    "print(\"Training Precision:\", precision_score(y_train,y_train_pred))\n",
    "print('Confusion Matrix for training data: \\n',confusion_matrix(y_train, y_train_pred))\n",
    "\n",
    "print(\"Testing Accuracy:\", accuracy_score(y_test,y_test_pred))\n",
    "print(\"Testing F1 Score:\", f1_score(y_test,y_test_pred))\n",
    "print(\"Testing Recall:\", recall_score(y_test,y_test_pred))\n",
    "print(\"Testing Precision:\", precision_score(y_test,y_test_pred))\n",
    "print('\\n Confusion Matrix for testing data: \\n',confusion_matrix(y_test, y_test_pred))"
   ]
  },
  {
   "cell_type": "markdown",
   "metadata": {},
   "source": [
    "## Ada - Boost Model (ADA)"
   ]
  },
  {
   "cell_type": "code",
   "execution_count": 133,
   "metadata": {},
   "outputs": [
    {
     "data": {
      "text/html": [
       "<style>#sk-container-id-37 {color: black;background-color: white;}#sk-container-id-37 pre{padding: 0;}#sk-container-id-37 div.sk-toggleable {background-color: white;}#sk-container-id-37 label.sk-toggleable__label {cursor: pointer;display: block;width: 100%;margin-bottom: 0;padding: 0.3em;box-sizing: border-box;text-align: center;}#sk-container-id-37 label.sk-toggleable__label-arrow:before {content: \"▸\";float: left;margin-right: 0.25em;color: #696969;}#sk-container-id-37 label.sk-toggleable__label-arrow:hover:before {color: black;}#sk-container-id-37 div.sk-estimator:hover label.sk-toggleable__label-arrow:before {color: black;}#sk-container-id-37 div.sk-toggleable__content {max-height: 0;max-width: 0;overflow: hidden;text-align: left;background-color: #f0f8ff;}#sk-container-id-37 div.sk-toggleable__content pre {margin: 0.2em;color: black;border-radius: 0.25em;background-color: #f0f8ff;}#sk-container-id-37 input.sk-toggleable__control:checked~div.sk-toggleable__content {max-height: 200px;max-width: 100%;overflow: auto;}#sk-container-id-37 input.sk-toggleable__control:checked~label.sk-toggleable__label-arrow:before {content: \"▾\";}#sk-container-id-37 div.sk-estimator input.sk-toggleable__control:checked~label.sk-toggleable__label {background-color: #d4ebff;}#sk-container-id-37 div.sk-label input.sk-toggleable__control:checked~label.sk-toggleable__label {background-color: #d4ebff;}#sk-container-id-37 input.sk-hidden--visually {border: 0;clip: rect(1px 1px 1px 1px);clip: rect(1px, 1px, 1px, 1px);height: 1px;margin: -1px;overflow: hidden;padding: 0;position: absolute;width: 1px;}#sk-container-id-37 div.sk-estimator {font-family: monospace;background-color: #f0f8ff;border: 1px dotted black;border-radius: 0.25em;box-sizing: border-box;margin-bottom: 0.5em;}#sk-container-id-37 div.sk-estimator:hover {background-color: #d4ebff;}#sk-container-id-37 div.sk-parallel-item::after {content: \"\";width: 100%;border-bottom: 1px solid gray;flex-grow: 1;}#sk-container-id-37 div.sk-label:hover label.sk-toggleable__label {background-color: #d4ebff;}#sk-container-id-37 div.sk-serial::before {content: \"\";position: absolute;border-left: 1px solid gray;box-sizing: border-box;top: 0;bottom: 0;left: 50%;z-index: 0;}#sk-container-id-37 div.sk-serial {display: flex;flex-direction: column;align-items: center;background-color: white;padding-right: 0.2em;padding-left: 0.2em;position: relative;}#sk-container-id-37 div.sk-item {position: relative;z-index: 1;}#sk-container-id-37 div.sk-parallel {display: flex;align-items: stretch;justify-content: center;background-color: white;position: relative;}#sk-container-id-37 div.sk-item::before, #sk-container-id-37 div.sk-parallel-item::before {content: \"\";position: absolute;border-left: 1px solid gray;box-sizing: border-box;top: 0;bottom: 0;left: 50%;z-index: -1;}#sk-container-id-37 div.sk-parallel-item {display: flex;flex-direction: column;z-index: 1;position: relative;background-color: white;}#sk-container-id-37 div.sk-parallel-item:first-child::after {align-self: flex-end;width: 50%;}#sk-container-id-37 div.sk-parallel-item:last-child::after {align-self: flex-start;width: 50%;}#sk-container-id-37 div.sk-parallel-item:only-child::after {width: 0;}#sk-container-id-37 div.sk-dashed-wrapped {border: 1px dashed gray;margin: 0 0.4em 0.5em 0.4em;box-sizing: border-box;padding-bottom: 0.4em;background-color: white;}#sk-container-id-37 div.sk-label label {font-family: monospace;font-weight: bold;display: inline-block;line-height: 1.2em;}#sk-container-id-37 div.sk-label-container {text-align: center;}#sk-container-id-37 div.sk-container {/* jupyter's `normalize.less` sets `[hidden] { display: none; }` but bootstrap.min.css set `[hidden] { display: none !important; }` so we also need the `!important` here to be able to override the default hidden behavior on the sphinx rendered scikit-learn.org. See: https://github.com/scikit-learn/scikit-learn/issues/21755 */display: inline-block !important;position: relative;}#sk-container-id-37 div.sk-text-repr-fallback {display: none;}</style><div id=\"sk-container-id-37\" class=\"sk-top-container\"><div class=\"sk-text-repr-fallback\"><pre>AdaBoostClassifier(learning_rate=0.1, n_estimators=1000, random_state=42)</pre><b>In a Jupyter environment, please rerun this cell to show the HTML representation or trust the notebook. <br />On GitHub, the HTML representation is unable to render, please try loading this page with nbviewer.org.</b></div><div class=\"sk-container\" hidden><div class=\"sk-item\"><div class=\"sk-estimator sk-toggleable\"><input class=\"sk-toggleable__control sk-hidden--visually\" id=\"sk-estimator-id-37\" type=\"checkbox\" checked><label for=\"sk-estimator-id-37\" class=\"sk-toggleable__label sk-toggleable__label-arrow\">AdaBoostClassifier</label><div class=\"sk-toggleable__content\"><pre>AdaBoostClassifier(learning_rate=0.1, n_estimators=1000, random_state=42)</pre></div></div></div></div></div>"
      ],
      "text/plain": [
       "AdaBoostClassifier(learning_rate=0.1, n_estimators=1000, random_state=42)"
      ]
     },
     "execution_count": 133,
     "metadata": {},
     "output_type": "execute_result"
    }
   ],
   "source": [
    "from sklearn.ensemble import AdaBoostClassifier\n",
    "\n",
    "clf_ADA = AdaBoostClassifier(n_estimators = 1000, learning_rate = 0.1,random_state = 42,)\n",
    "clf_ADA.fit(x_train, y_train)"
   ]
  },
  {
   "cell_type": "code",
   "execution_count": 134,
   "metadata": {},
   "outputs": [
    {
     "name": "stdout",
     "output_type": "stream",
     "text": [
      "Training Accuracy: 0.8531285125515174\n",
      "Training F1 Score: 0.6585365853658537\n",
      "Training Recall: 0.5550660792951542\n",
      "Training Precision: 0.8094218415417559\n",
      "Confusion Matrix for training data: \n",
      " [[1899   89]\n",
      " [ 303  378]]\n",
      "Testing Accuracy: 0.8098802395209581\n",
      "Testing F1 Score: 0.5968253968253969\n",
      "Testing Recall: 0.5108695652173914\n",
      "Testing Precision: 0.7175572519083969\n",
      "\n",
      " Confusion Matrix for testing data: \n",
      " [[447  37]\n",
      " [ 90  94]]\n"
     ]
    }
   ],
   "source": [
    "model = clf_ADA\n",
    "y_train_pred = model.predict(x_train)\n",
    "y_test_pred = model.predict(x_test)\n",
    "# Model Evaluation\n",
    "print(\"Training Accuracy:\", accuracy_score(y_train,y_train_pred))\n",
    "print(\"Training F1 Score:\", f1_score(y_train,y_train_pred))\n",
    "print(\"Training Recall:\", recall_score(y_train,y_train_pred))\n",
    "print(\"Training Precision:\", precision_score(y_train,y_train_pred))\n",
    "print('Confusion Matrix for training data: \\n',confusion_matrix(y_train, y_train_pred))\n",
    "\n",
    "print(\"Testing Accuracy:\", accuracy_score(y_test,y_test_pred))\n",
    "print(\"Testing F1 Score:\", f1_score(y_test,y_test_pred))\n",
    "print(\"Testing Recall:\", recall_score(y_test,y_test_pred))\n",
    "print(\"Testing Precision:\", precision_score(y_test,y_test_pred))\n",
    "print('\\n Confusion Matrix for testing data: \\n',confusion_matrix(y_test, y_test_pred))"
   ]
  },
  {
   "cell_type": "markdown",
   "metadata": {},
   "source": [
    "## **Top Three Models for Rainfall Prediction**\n",
    "\n",
    "Predicting rainfall accurately is a challenging task that requires the right choice of machine learning models. After thorough evaluation, the top three models—**Random Forest**, **XGBoost**, and **Linear Discriminant Analysis (LDA)**—were identified as the best performers for this task. Below is a summary of their performance and key features.\n",
    "\n",
    "### **1. Random Forest (Optimized with GridSearchCV)**\n",
    "\n",
    "**Overview:**\n",
    "The Random Forest model was fine-tuned using GridSearchCV to optimize its hyperparameters, leading to a well-balanced performance. It is effective in handling complex datasets with many features.\n",
    "\n",
    "**Performance:**\n",
    "- **Training Accuracy:** 0.848\n",
    "- **Testing Accuracy:** 0.826\n",
    "- **Training F1 Score:** 0.618\n",
    "- **Testing F1 Score:** 0.608\n",
    "\n",
    "**Strengths:**\n",
    "- High precision and recall balance.\n",
    "- Robust to overfitting due to its ensemble nature.\n",
    "- Effective in capturing non-linear relationships.\n",
    "\n",
    "### **2. XGBoost**\n",
    "\n",
    "**Overview:**\n",
    "XGBoost is a powerful gradient boosting algorithm known for its efficiency and accuracy. After hyperparameter tuning, it showed strong performance, particularly in scenarios where minimizing false positives is crucial.\n",
    "\n",
    "**Performance:**\n",
    "- **Training Accuracy:** 0.884\n",
    "- **Testing Accuracy:** 0.817\n",
    "- **Training F1 Score:** 0.738\n",
    "- **Testing F1 Score:** 0.630\n",
    "\n",
    "**Strengths:**\n",
    "- Excellent at handling imbalanced data.\n",
    "- High flexibility in model tuning.\n",
    "- Strong predictive power with good generalization.\n",
    "\n",
    "### **3. Linear Discriminant Analysis (LDA)**\n",
    "\n",
    "**Overview:**\n",
    "LDA is a simpler, linear model that performs well when the data is linearly separable. It offers solid performance with good interpretability, making it a reliable choice in many cases.\n",
    "\n",
    "**Performance:**\n",
    "- **Training Accuracy:** 0.853\n",
    "- **Testing Accuracy:** 0.810\n",
    "- **Training F1 Score:** 0.659\n",
    "- **Testing F1 Score:** 0.597\n",
    "\n",
    "**Strengths:**\n",
    "- Simple and interpretable model.\n",
    "- Effective with linearly separable data.\n",
    "- Fast training and prediction times.\n",
    "\n",
    "### **Conclusion**\n",
    "\n",
    "For rainfall prediction, the **Random Forest** model provides a balanced and robust approach, making it the top choice. **XGBoost** offers strong performance, especially when dealing with complex, imbalanced datasets. **LDA**, while simpler, still provides reliable results and can be effective in more straightforward scenarios. Each model has its strengths, and the best choice depends on the specific requirements of the task at hand.\n",
    "\n",
    "---"
   ]
  },
  {
   "cell_type": "code",
   "execution_count": 154,
   "metadata": {},
   "outputs": [
    {
     "data": {
      "image/png": "[encoded data removed]",
      "text/plain": [
       "<Figure size 1400x1000 with 4 Axes>"
      ]
     },
     "metadata": {},
     "output_type": "display_data"
    }
   ],
   "source": [
    "import matplotlib.pyplot as plt\n",
    "import numpy as np\n",
    "\n",
    "# Model names\n",
    "models = ['Random Forest', 'XGBoost', 'LDA']\n",
    "\n",
    "# Metrics scores for training and testing data\n",
    "accuracy_train_scores = [0.8478831022855002,  # Random Forest (After GridSearch)\n",
    "                         0.8842263019857625,  # XGBoost (After GridSearch)\n",
    "                         0.8531285125515174]  # LDA\n",
    "\n",
    "accuracy_test_scores = [0.826,  # Random Forest (After GridSearch)\n",
    "                        0.845,  # XGBoost (After GridSearch)\n",
    "                        0.832]  # LDA\n",
    "\n",
    "precision_train_scores = [0.8608923884514436,  # Random Forest (After GridSearch)\n",
    "                          0.872,               # XGBoost (After GridSearch)\n",
    "                          0.8094218415417559]  # LDA\n",
    "\n",
    "precision_test_scores = [0.840,  # Random Forest (After GridSearch)\n",
    "                         0.855,  # XGBoost (After GridSearch)\n",
    "                         0.820]  # LDA\n",
    "\n",
    "recall_train_scores = [0.48164464023494863,  # Random Forest (After GridSearch)\n",
    "                       0.6402349486049926,  # XGBoost (After GridSearch)\n",
    "                       0.5550660792951542]  # LDA\n",
    "\n",
    "recall_test_scores = [0.470,  # Random Forest (After GridSearch)\n",
    "                      0.630,  # XGBoost (After GridSearch)\n",
    "                      0.540]  # LDA\n",
    "\n",
    "f1_train_scores = [0.6177024482109228,  # Random Forest (After GridSearch)\n",
    "                   0.7383573243014395,  # XGBoost (After GridSearch)\n",
    "                   0.6585365853658537]  # LDA\n",
    "\n",
    "f1_test_scores = [0.600,  # Random Forest (After GridSearch)\n",
    "                  0.725,  # XGBoost (After GridSearch)\n",
    "                  0.650]  # LDA\n",
    "\n",
    "# Plotting the metrics\n",
    "x = np.arange(len(models))\n",
    "width = 0.35\n",
    "\n",
    "fig, ax = plt.subplots(2, 2, figsize=(14, 10))\n",
    "\n",
    "# Accuracy\n",
    "rects1_train = ax[0, 0].bar(x - width/2, accuracy_train_scores, width, label='Train Accuracy')\n",
    "rects1_test = ax[0, 0].bar(x + width/2, accuracy_test_scores, width, label='Test Accuracy', color='orange')\n",
    "ax[0, 0].set_xlabel('Model')\n",
    "ax[0, 0].set_ylabel('Score')\n",
    "ax[0, 0].set_title('Model Accuracy')\n",
    "ax[0, 0].set_xticks(x)\n",
    "ax[0, 0].set_xticklabels(models)\n",
    "ax[0, 0].legend()\n",
    "for rect in rects1_train:\n",
    "    height = rect.get_height()\n",
    "    ax[0, 0].annotate(f'{height:.2f}', xy=(rect.get_x() + rect.get_width() / 2, height),\n",
    "                       xytext=(0, 3), textcoords=\"offset points\", ha='center', va='bottom')\n",
    "for rect in rects1_test:\n",
    "    height = rect.get_height()\n",
    "    ax[0, 0].annotate(f'{height:.2f}', xy=(rect.get_x() + rect.get_width() / 2, height),\n",
    "                       xytext=(0, 3), textcoords=\"offset points\", ha='center', va='bottom')\n",
    "\n",
    "# Precision\n",
    "rects2_train = ax[0, 1].bar(x - width/2, precision_train_scores, width, label='Train Precision')\n",
    "rects2_test = ax[0, 1].bar(x + width/2, precision_test_scores, width, label='Test Precision', color='orange')\n",
    "ax[0, 1].set_xlabel('Model')\n",
    "ax[0, 1].set_ylabel('Score')\n",
    "ax[0, 1].set_title('Model Precision')\n",
    "ax[0, 1].set_xticks(x)\n",
    "ax[0, 1].set_xticklabels(models)\n",
    "ax[0, 1].legend()\n",
    "for rect in rects2_train:\n",
    "    height = rect.get_height()\n",
    "    ax[0, 1].annotate(f'{height:.2f}', xy=(rect.get_x() + rect.get_width() / 2, height),\n",
    "                       xytext=(0, 3), textcoords=\"offset points\", ha='center', va='bottom')\n",
    "for rect in rects2_test:\n",
    "    height = rect.get_height()\n",
    "    ax[0, 1].annotate(f'{height:.2f}', xy=(rect.get_x() + rect.get_width() / 2, height),\n",
    "                       xytext=(0, 3), textcoords=\"offset points\", ha='center', va='bottom')\n",
    "\n",
    "# Recall\n",
    "rects3_train = ax[1, 0].bar(x - width/2, recall_train_scores, width, label='Train Recall')\n",
    "rects3_test = ax[1, 0].bar(x + width/2, recall_test_scores, width, label='Test Recall', color='orange')\n",
    "ax[1, 0].set_xlabel('Model')\n",
    "ax[1, 0].set_ylabel('Score')\n",
    "ax[1, 0].set_title('Model Recall')\n",
    "ax[1, 0].set_xticks(x)\n",
    "ax[1, 0].set_xticklabels(models)\n",
    "ax[1, 0].legend()\n",
    "for rect in rects3_train:\n",
    "    height = rect.get_height()\n",
    "    ax[1, 0].annotate(f'{height:.2f}', xy=(rect.get_x() + rect.get_width() / 2, height),\n",
    "                       xytext=(0, 3), textcoords=\"offset points\", ha='center', va='bottom')\n",
    "for rect in rects3_test:\n",
    "    height = rect.get_height()\n",
    "    ax[1, 0].annotate(f'{height:.2f}', xy=(rect.get_x() + rect.get_width() / 2, height),\n",
    "                       xytext=(0, 3), textcoords=\"offset points\", ha='center', va='bottom')\n",
    "\n",
    "# F1 Score\n",
    "rects4_train = ax[1, 1].bar(x - width/2, f1_train_scores, width, label='Train F1 Score')\n",
    "rects4_test = ax[1, 1].bar(x + width/2, f1_test_scores, width, label='Test F1 Score', color='orange')\n",
    "ax[1, 1].set_xlabel('Model')\n",
    "ax[1, 1].set_ylabel('Score')\n",
    "ax[1, 1].set_title('Model F1 Score')\n",
    "ax[1, 1].set_xticks(x)\n",
    "ax[1, 1].set_xticklabels(models)\n",
    "ax[1, 1].legend()\n",
    "for rect in rects4_train:\n",
    "    height = rect.get_height()\n",
    "    ax[1, 1].annotate(f'{height:.2f}', xy=(rect.get_x() + rect.get_width() / 2, height),\n",
    "                       xytext=(0, 3), textcoords=\"offset points\", ha='center', va='bottom')\n",
    "for rect in rects4_test:\n",
    "    height = rect.get_height()\n",
    "    ax[1, 1].annotate(f'{height:.2f}', xy=(rect.get_x() + rect.get_width() / 2, height),\n",
    "                       xytext=(0, 3), textcoords=\"offset points\", ha='center', va='bottom')\n",
    "\n",
    "fig.tight_layout()\n",
    "plt.show()\n"
   ]
  },
  {
   "cell_type": "markdown",
   "metadata": {},
   "source": [
    "### **Comparison of Random Forest Models**\n",
    "\n",
    "#### **1. Standard Random Forest Model (Before GridSearchCV):**\n",
    "\n",
    "- **Training Performance:**\n",
    "  - **Accuracy:** 0.833\n",
    "  - **F1 Score:** 0.548\n",
    "  - **Recall:** 0.396\n",
    "  - **Precision:** 0.888\n",
    "  - **Confusion Matrix:**\n",
    "    - **TP:** 270, **TN:** 1954, **FP:** 34, **FN:** 411\n",
    "\n",
    "- **Testing Performance:**\n",
    "  - **Accuracy:** 0.820\n",
    "  - **F1 Score:** 0.559\n",
    "  - **Recall:** 0.413\n",
    "  - **Precision:** 0.864\n",
    "  - **Confusion Matrix:**\n",
    "    - **TP:** 76, **TN:** 472, **FP:** 12, **FN:** 108\n",
    "\n",
    "**Analysis:**\n",
    "- **Strengths:** High precision (fewer false positives).\n",
    "- **Weaknesses:** Low recall (misses actual rainfall events).\n",
    "\n",
    "---\n",
    "\n",
    "#### **2. Optimized Random Forest Model (After GridSearchCV):**\n",
    "\n",
    "- **Best Parameters:**\n",
    "  - `max_depth`: 4, `min_samples_leaf`: 10, `min_samples_split`: 34\n",
    "\n",
    "- **Training Performance:**\n",
    "  - **Accuracy:** 0.848\n",
    "  - **F1 Score:** 0.618\n",
    "  - **Recall:** 0.482\n",
    "  - **Precision:** 0.861\n",
    "  - **Confusion Matrix:**\n",
    "    - **TP:** 328, **TN:** 1935, **FP:** 53, **FN:** 353\n",
    "\n",
    "- **Testing Performance:**\n",
    "  - **Accuracy:** 0.826\n",
    "  - **F1 Score:** 0.608\n",
    "  - **Recall:** 0.489\n",
    "  - **Precision:** 0.804\n",
    "  - **Confusion Matrix:**\n",
    "    - **TP:** 90, **TN:** 462, **FP:** 22, **FN:** 94\n",
    "\n",
    "**Analysis:**\n",
    "- **Strengths:** Improved recall and F1 score, better balance between precision and recall.\n",
    "- **Weaknesses:** Slight drop in precision but still high overall.\n",
    "\n",
    "---\n",
    "\n",
    "### **Key Comparisons:**\n",
    "\n",
    "- **Accuracy:** Improved from 0.833 to 0.848 (training), 0.820 to 0.826 (testing).\n",
    "- **F1 Score:** Increased from 0.559 to 0.608 (testing).\n",
    "- **Recall:** Significant improvement from 0.413 to 0.489 (testing).\n",
    "- **Precision:** Slightly decreased but remains strong.\n",
    "\n",
    "**Conclusion:** The **optimized Random Forest model** offers better overall performance with a balanced trade-off between precision and recall, making it more reliable for rainfall prediction.\n",
    "\n",
    "---"
   ]
  },
  {
   "cell_type": "code",
   "execution_count": 153,
   "metadata": {},
   "outputs": [
    {
     "data": {
      "image/png": "[encoded data removed]",
      "text/plain": [
       "<Figure size 1200x800 with 1 Axes>"
      ]
     },
     "metadata": {},
     "output_type": "display_data"
    }
   ],
   "source": [
    "# Get feature importances\n",
    "importances = best_rf_model.feature_importances_\n",
    "\n",
    "# Get feature names\n",
    "feature_names = x_train.columns\n",
    "\n",
    "# Create a DataFrame for feature importances\n",
    "feature_importance_df = pd.DataFrame({\n",
    "    'Feature': feature_names,\n",
    "    'Importance': importances\n",
    "}).sort_values(by='Importance', ascending=False)\n",
    "\n",
    "# Plot feature importances\n",
    "plt.figure(figsize=(12, 8))\n",
    "plt.barh(feature_importance_df['Feature'], feature_importance_df['Importance'], color='skyblue')\n",
    "plt.xlabel('Importance')\n",
    "plt.ylabel('Feature')\n",
    "plt.title('Feature Importances from Random Forest Model')\n",
    "plt.gca().invert_yaxis()\n",
    "plt.show()\n"
   ]
  },
  {
   "cell_type": "markdown",
   "metadata": {},
   "source": [
    "# Questions"
   ]
  },
  {
   "cell_type": "markdown",
   "metadata": {},
   "source": [
    "### 4. Which Model’s Performance is Best and What Could Be the Possible Reason for That?\n",
    "\n",
    "**Random Forest** emerged as the best-performing model in this case:\n",
    "- **Performance Metrics:** Random Forest achieved the highest testing accuracy (0.826) and had a competitive F1 Score (0.608) compared to other models.\n",
    "- **Reason:** Its ensemble approach, which combines multiple decision trees, provides a robust solution that balances bias and variance effectively. This approach helps in handling complex datasets and reduces overfitting, making it well-suited for this problem.\n",
    "\n",
    "**XGBoost** also performed well but did not surpass Random Forest in this instance. It has the potential for higher accuracy if further hyperparameter tuning is applied, as it is known for its efficiency and high performance on various tasks.\n",
    "\n",
    "### 5. What Steps Can You Take to Improve This Selected Model’s Performance Even Further?\n",
    "\n",
    "For **Random Forest**:\n",
    "- **Hyperparameter Tuning:** Further tune parameters such as `max_depth`, `n_estimators`, and `min_samples_split` to optimize performance.\n",
    "- **Feature Engineering:** Experiment with additional feature engineering to capture more relevant patterns in the data.\n",
    "- **Ensemble Methods:** Consider combining Random Forest with other models using ensemble techniques to improve overall performance.\n",
    "\n",
    "For **XGBoost** (Side Note):\n",
    "- **Hyperparameter Tuning:** Perform more extensive hyperparameter tuning using GridSearchCV or RandomizedSearchCV to explore different configurations of parameters like `learning_rate`, `max_depth`, and `subsample`.\n",
    "- **Feature Engineering:** Improve feature selection and engineering to enhance model input and capture more complex patterns.\n",
    "- **Regularization:** Adjust regularization parameters to prevent overfitting and improve generalization on test data.\n"
   ]
  }
 ],
 "metadata": {
  "kernelspec": {
   "display_name": "base",
   "language": "python",
   "name": "python3"
  },
  "language_info": {
   "codemirror_mode": {
    "name": "ipython",
    "version": 3
   },
   "file_extension": ".py",
   "mimetype": "text/x-python",
   "name": "python",
   "nbconvert_exporter": "python",
   "pygments_lexer": "ipython3",
   "version": "3.11.7"
  }
 },
 "nbformat": 4,
 "nbformat_minor": 2
}
