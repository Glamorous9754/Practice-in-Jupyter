{
  "cells": [
    {
      "cell_type": "markdown",
      "metadata": {
        "colab_type": "text",
        "id": "view-in-github"
      },
      "source": [
        "<a href=\"https://colab.research.google.com/github/Glamorous9754/Practice-in-Jupyter/blob/main/p_1.ipynb\" target=\"_parent\"><img src=\"https://colab.research.google.com/assets/colab-badge.svg\" alt=\"Open In Colab\"/></a>"
      ]
    },
    {
      "cell_type": "code",
      "execution_count": 2,
      "metadata": {
        "colab": {
          "base_uri": "https://localhost:8080/"
        },
        "id": "lIYdn1woOS1n",
        "outputId": "c2cd7dcc-fc73-4705-cd74-fdacc56267ca"
      },
      "outputs": [
        {
          "name": "stdout",
          "output_type": "stream",
          "text": [
            "<class 'str'>\n"
          ]
        }
      ],
      "source": [
        "a=input(\"Enter Anything: \")\n",
        "print(type(a))"
      ]
    },
    {
      "cell_type": "code",
      "execution_count": 3,
      "metadata": {
        "colab": {
          "base_uri": "https://localhost:8080/"
        },
        "id": "-HwJ_XwANKKv",
        "outputId": "eb11cd87-0375-43f8-c1cf-568a58ae1d72"
      },
      "outputs": [
        {
          "name": "stdout",
          "output_type": "stream",
          "text": [
            "2024-08-04\n",
            "Hello \n",
            "Dear  You have been selected for the position of Data Analyst at Start-Tech Academy, Your date of joining is 2024-08-04\n"
          ]
        }
      ],
      "source": [
        "import datetime\n",
        "\n",
        "today = datetime.date.today()\n",
        "print(today)\n",
        "name = input(\"Enter Your Name: \")\n",
        "print(\"Hello\",name)\n",
        "\n",
        "print(\"Dear\", name,\"You have been selected for the position of Data Analyst at Start-Tech Academy, Your date of joining is\" , today)"
      ]
    },
    {
      "cell_type": "code",
      "execution_count": 4,
      "metadata": {
        "id": "jAvfF9QLNZHa"
      },
      "outputs": [],
      "source": [
        "import numpy as np\n",
        "import pandas as pd\n",
        "import random\n",
        "import string\n",
        "import seaborn as sns\n",
        "import matplotlib.pyplot as plt"
      ]
    },
    {
      "cell_type": "code",
      "execution_count": 5,
      "metadata": {
        "colab": {
          "base_uri": "https://localhost:8080/",
          "height": 206
        },
        "id": "iS9R52dzODh3",
        "outputId": "5b186aae-a4f8-435a-f58b-35ae695d7b0a"
      },
      "outputs": [
        {
          "data": {
            "text/html": [
              "<div>\n",
              "<style scoped>\n",
              "    .dataframe tbody tr th:only-of-type {\n",
              "        vertical-align: middle;\n",
              "    }\n",
              "\n",
              "    .dataframe tbody tr th {\n",
              "        vertical-align: top;\n",
              "    }\n",
              "\n",
              "    .dataframe thead th {\n",
              "        text-align: right;\n",
              "    }\n",
              "</style>\n",
              "<table border=\"1\" class=\"dataframe\">\n",
              "  <thead>\n",
              "    <tr style=\"text-align: right;\">\n",
              "      <th></th>\n",
              "      <th>A</th>\n",
              "      <th>B</th>\n",
              "      <th>C</th>\n",
              "    </tr>\n",
              "  </thead>\n",
              "  <tbody>\n",
              "    <tr>\n",
              "      <th>0</th>\n",
              "      <td>6</td>\n",
              "      <td>0.397826</td>\n",
              "      <td>nlvfh</td>\n",
              "    </tr>\n",
              "    <tr>\n",
              "      <th>1</th>\n",
              "      <td>4</td>\n",
              "      <td>0.720466</td>\n",
              "      <td>inqgl</td>\n",
              "    </tr>\n",
              "    <tr>\n",
              "      <th>2</th>\n",
              "      <td>7</td>\n",
              "      <td>0.705882</td>\n",
              "      <td>jzrcv</td>\n",
              "    </tr>\n",
              "    <tr>\n",
              "      <th>3</th>\n",
              "      <td>6</td>\n",
              "      <td>0.164917</td>\n",
              "      <td>brdel</td>\n",
              "    </tr>\n",
              "    <tr>\n",
              "      <th>4</th>\n",
              "      <td>5</td>\n",
              "      <td>0.470079</td>\n",
              "      <td>oeoin</td>\n",
              "    </tr>\n",
              "  </tbody>\n",
              "</table>\n",
              "</div>"
            ],
            "text/plain": [
              "   A         B      C\n",
              "0  6  0.397826  nlvfh\n",
              "1  4  0.720466  inqgl\n",
              "2  7  0.705882  jzrcv\n",
              "3  6  0.164917  brdel\n",
              "4  5  0.470079  oeoin"
            ]
          },
          "execution_count": 5,
          "metadata": {},
          "output_type": "execute_result"
        }
      ],
      "source": [
        "A = np.random.randint(1,11,100)\n",
        "B = np.random.rand(100)\n",
        "C = [''.join(random.choices(string.ascii_lowercase, k=5)) for _ in range(100)]\n",
        "\n",
        "\n",
        "df = pd.DataFrame({\"A\":A,\"B\":B,\"C\":C})\n",
        "df.head()"
      ]
    },
    {
      "cell_type": "code",
      "execution_count": 6,
      "metadata": {
        "colab": {
          "base_uri": "https://localhost:8080/",
          "height": 206
        },
        "id": "jKmKn1VKONTz",
        "outputId": "33b3dfd5-4954-413a-8572-2653f1c9529b"
      },
      "outputs": [
        {
          "data": {
            "text/html": [
              "<div>\n",
              "<style scoped>\n",
              "    .dataframe tbody tr th:only-of-type {\n",
              "        vertical-align: middle;\n",
              "    }\n",
              "\n",
              "    .dataframe tbody tr th {\n",
              "        vertical-align: top;\n",
              "    }\n",
              "\n",
              "    .dataframe thead th {\n",
              "        text-align: right;\n",
              "    }\n",
              "</style>\n",
              "<table border=\"1\" class=\"dataframe\">\n",
              "  <thead>\n",
              "    <tr style=\"text-align: right;\">\n",
              "      <th></th>\n",
              "      <th>data</th>\n",
              "    </tr>\n",
              "  </thead>\n",
              "  <tbody>\n",
              "    <tr>\n",
              "      <th>0</th>\n",
              "      <td>0.464123</td>\n",
              "    </tr>\n",
              "    <tr>\n",
              "      <th>1</th>\n",
              "      <td>0.614429</td>\n",
              "    </tr>\n",
              "    <tr>\n",
              "      <th>2</th>\n",
              "      <td>-0.900898</td>\n",
              "    </tr>\n",
              "    <tr>\n",
              "      <th>3</th>\n",
              "      <td>0.062529</td>\n",
              "    </tr>\n",
              "    <tr>\n",
              "      <th>4</th>\n",
              "      <td>0.884681</td>\n",
              "    </tr>\n",
              "  </tbody>\n",
              "</table>\n",
              "</div>"
            ],
            "text/plain": [
              "       data\n",
              "0  0.464123\n",
              "1  0.614429\n",
              "2 -0.900898\n",
              "3  0.062529\n",
              "4  0.884681"
            ]
          },
          "execution_count": 6,
          "metadata": {},
          "output_type": "execute_result"
        }
      ],
      "source": [
        "X = np.random.normal(0,1,100)\n",
        "Y = np.random.normal(10,1,10)\n",
        "data = np.concatenate((X,Y))\n",
        "df = pd.DataFrame({\"data\":data})\n",
        "df.head()"
      ]
    },
    {
      "cell_type": "code",
      "execution_count": 7,
      "metadata": {
        "colab": {
          "base_uri": "https://localhost:8080/",
          "height": 433
        },
        "id": "yXWqRGS-QJpr",
        "outputId": "07f98605-292c-4e32-bde5-b0ba5eb2cef8"
      },
      "outputs": [
        {
          "data": {
            "image/png": "[encoded data removed]",
            "text/plain": [
              "<Figure size 640x480 with 1 Axes>"
            ]
          },
          "metadata": {},
          "output_type": "display_data"
        }
      ],
      "source": [
        "df.describe()\n",
        "sns.boxplot(df[\"data\"])\n",
        "plt.title(\"Box Plot for outliers detection\")\n",
        "plt.show()"
      ]
    },
    {
      "cell_type": "code",
      "execution_count": 8,
      "metadata": {
        "colab": {
          "base_uri": "https://localhost:8080/",
          "height": 433
        },
        "id": "1SkGM6geQymP",
        "outputId": "9a042a38-2ef4-4161-8db2-2227b9b48c64"
      },
      "outputs": [
        {
          "data": {
            "image/png": "[encoded data removed]",
            "text/plain": [
              "<Figure size 640x480 with 1 Axes>"
            ]
          },
          "metadata": {},
          "output_type": "display_data"
        }
      ],
      "source": [
        "sns.violinplot(df[\"data\"])\n",
        "plt.title(\"Violin Plot for outliers detection\")\n",
        "plt.show()"
      ]
    },
    {
      "cell_type": "code",
      "execution_count": 9,
      "metadata": {
        "id": "m_EIGIqlSQ-U"
      },
      "outputs": [
        {
          "name": "stdout",
          "output_type": "stream",
          "text": [
            "a , good Morning!\n"
          ]
        }
      ],
      "source": [
        "name = input(\"Enter your name:\")\n",
        "print(name,\", good Morning!\")"
      ]
    },
    {
      "cell_type": "code",
      "execution_count": 10,
      "metadata": {},
      "outputs": [
        {
          "data": {
            "text/html": [
              "<div>\n",
              "<style scoped>\n",
              "    .dataframe tbody tr th:only-of-type {\n",
              "        vertical-align: middle;\n",
              "    }\n",
              "\n",
              "    .dataframe tbody tr th {\n",
              "        vertical-align: top;\n",
              "    }\n",
              "\n",
              "    .dataframe thead th {\n",
              "        text-align: right;\n",
              "    }\n",
              "</style>\n",
              "<table border=\"1\" class=\"dataframe\">\n",
              "  <thead>\n",
              "    <tr style=\"text-align: right;\">\n",
              "      <th></th>\n",
              "      <th>Column1_A</th>\n",
              "      <th>Column1_B</th>\n",
              "      <th>Column1_C</th>\n",
              "      <th>Column2_A</th>\n",
              "      <th>Column2_B</th>\n",
              "      <th>Column2_C</th>\n",
              "      <th>Column3_A</th>\n",
              "      <th>Column3_B</th>\n",
              "      <th>Column3_C</th>\n",
              "    </tr>\n",
              "  </thead>\n",
              "  <tbody>\n",
              "    <tr>\n",
              "      <th>0</th>\n",
              "      <td>True</td>\n",
              "      <td>False</td>\n",
              "      <td>False</td>\n",
              "      <td>False</td>\n",
              "      <td>True</td>\n",
              "      <td>False</td>\n",
              "      <td>False</td>\n",
              "      <td>False</td>\n",
              "      <td>True</td>\n",
              "    </tr>\n",
              "    <tr>\n",
              "      <th>1</th>\n",
              "      <td>True</td>\n",
              "      <td>False</td>\n",
              "      <td>False</td>\n",
              "      <td>True</td>\n",
              "      <td>False</td>\n",
              "      <td>False</td>\n",
              "      <td>False</td>\n",
              "      <td>False</td>\n",
              "      <td>True</td>\n",
              "    </tr>\n",
              "    <tr>\n",
              "      <th>2</th>\n",
              "      <td>False</td>\n",
              "      <td>True</td>\n",
              "      <td>False</td>\n",
              "      <td>True</td>\n",
              "      <td>False</td>\n",
              "      <td>False</td>\n",
              "      <td>True</td>\n",
              "      <td>False</td>\n",
              "      <td>False</td>\n",
              "    </tr>\n",
              "    <tr>\n",
              "      <th>3</th>\n",
              "      <td>False</td>\n",
              "      <td>False</td>\n",
              "      <td>True</td>\n",
              "      <td>False</td>\n",
              "      <td>False</td>\n",
              "      <td>True</td>\n",
              "      <td>False</td>\n",
              "      <td>True</td>\n",
              "      <td>False</td>\n",
              "    </tr>\n",
              "    <tr>\n",
              "      <th>4</th>\n",
              "      <td>False</td>\n",
              "      <td>True</td>\n",
              "      <td>False</td>\n",
              "      <td>False</td>\n",
              "      <td>False</td>\n",
              "      <td>True</td>\n",
              "      <td>False</td>\n",
              "      <td>False</td>\n",
              "      <td>True</td>\n",
              "    </tr>\n",
              "    <tr>\n",
              "      <th>...</th>\n",
              "      <td>...</td>\n",
              "      <td>...</td>\n",
              "      <td>...</td>\n",
              "      <td>...</td>\n",
              "      <td>...</td>\n",
              "      <td>...</td>\n",
              "      <td>...</td>\n",
              "      <td>...</td>\n",
              "      <td>...</td>\n",
              "    </tr>\n",
              "    <tr>\n",
              "      <th>95</th>\n",
              "      <td>False</td>\n",
              "      <td>True</td>\n",
              "      <td>False</td>\n",
              "      <td>False</td>\n",
              "      <td>True</td>\n",
              "      <td>False</td>\n",
              "      <td>True</td>\n",
              "      <td>False</td>\n",
              "      <td>False</td>\n",
              "    </tr>\n",
              "    <tr>\n",
              "      <th>96</th>\n",
              "      <td>False</td>\n",
              "      <td>True</td>\n",
              "      <td>False</td>\n",
              "      <td>False</td>\n",
              "      <td>False</td>\n",
              "      <td>True</td>\n",
              "      <td>False</td>\n",
              "      <td>True</td>\n",
              "      <td>False</td>\n",
              "    </tr>\n",
              "    <tr>\n",
              "      <th>97</th>\n",
              "      <td>False</td>\n",
              "      <td>True</td>\n",
              "      <td>False</td>\n",
              "      <td>False</td>\n",
              "      <td>False</td>\n",
              "      <td>True</td>\n",
              "      <td>False</td>\n",
              "      <td>False</td>\n",
              "      <td>True</td>\n",
              "    </tr>\n",
              "    <tr>\n",
              "      <th>98</th>\n",
              "      <td>False</td>\n",
              "      <td>False</td>\n",
              "      <td>True</td>\n",
              "      <td>False</td>\n",
              "      <td>False</td>\n",
              "      <td>True</td>\n",
              "      <td>False</td>\n",
              "      <td>False</td>\n",
              "      <td>True</td>\n",
              "    </tr>\n",
              "    <tr>\n",
              "      <th>99</th>\n",
              "      <td>False</td>\n",
              "      <td>False</td>\n",
              "      <td>True</td>\n",
              "      <td>False</td>\n",
              "      <td>True</td>\n",
              "      <td>False</td>\n",
              "      <td>False</td>\n",
              "      <td>False</td>\n",
              "      <td>True</td>\n",
              "    </tr>\n",
              "  </tbody>\n",
              "</table>\n",
              "<p>100 rows × 9 columns</p>\n",
              "</div>"
            ],
            "text/plain": [
              "    Column1_A  Column1_B  Column1_C  Column2_A  Column2_B  Column2_C  \\\n",
              "0        True      False      False      False       True      False   \n",
              "1        True      False      False       True      False      False   \n",
              "2       False       True      False       True      False      False   \n",
              "3       False      False       True      False      False       True   \n",
              "4       False       True      False      False      False       True   \n",
              "..        ...        ...        ...        ...        ...        ...   \n",
              "95      False       True      False      False       True      False   \n",
              "96      False       True      False      False      False       True   \n",
              "97      False       True      False      False      False       True   \n",
              "98      False      False       True      False      False       True   \n",
              "99      False      False       True      False       True      False   \n",
              "\n",
              "    Column3_A  Column3_B  Column3_C  \n",
              "0       False      False       True  \n",
              "1       False      False       True  \n",
              "2        True      False      False  \n",
              "3       False       True      False  \n",
              "4       False      False       True  \n",
              "..        ...        ...        ...  \n",
              "95       True      False      False  \n",
              "96      False       True      False  \n",
              "97      False      False       True  \n",
              "98      False      False       True  \n",
              "99      False      False       True  \n",
              "\n",
              "[100 rows x 9 columns]"
            ]
          },
          "execution_count": 10,
          "metadata": {},
          "output_type": "execute_result"
        }
      ],
      "source": [
        "import numpy as np\n",
        "import pandas as pd\n",
        "\n",
        "def create_dummy_variables(arr):\n",
        "    df = pd.DataFrame(arr, columns=['Column1', 'Column2', 'Column3'])\n",
        "    dummy_df = pd.get_dummies(df)\n",
        "    return dummy_df\n",
        "\n",
        "# Example array arr with shape (100, 3)\n",
        "arr = np.random.choice(['A', 'B', 'C'], size=(100, 3))\n",
        "\n",
        "dummy_array = create_dummy_variables(arr)\n",
        "dummy_array"
      ]
    },
    {
      "cell_type": "code",
      "execution_count": 11,
      "metadata": {},
      "outputs": [
        {
          "name": "stdout",
          "output_type": "stream",
          "text": [
            "The entered character is neither uppercase nor lowercase.\n"
          ]
        }
      ],
      "source": [
        "a =  input(\"Enter a Character:\")\n",
        "if a.isupper():\n",
        "    print(\"The entered character is uppercase.\")\n",
        "elif a.islower():\n",
        "    print(\"The entered character is lowercase.\")\n",
        "else:\n",
        "    print(\"The entered character is neither uppercase nor lowercase.\")\n"
      ]
    },
    {
      "cell_type": "code",
      "execution_count": 12,
      "metadata": {},
      "outputs": [
        {
          "name": "stdout",
          "output_type": "stream",
          "text": [
            "[75 36 84 72 77 53 74 33 44 26 31  2  6 13 47 99 21  6 38 23]\n"
          ]
        },
        {
          "data": {
            "text/plain": [
              "array([[75, 36, 84, 72, 77],\n",
              "       [53, 74, 33, 44, 26],\n",
              "       [31,  2,  6, 13, 47],\n",
              "       [99, 21,  6, 38, 23]])"
            ]
          },
          "execution_count": 12,
          "metadata": {},
          "output_type": "execute_result"
        }
      ],
      "source": [
        "array = np.random.randint(0,100,20)\n",
        "print(array)\n",
        "\n",
        "matrix = array.reshape(4,5)\n",
        "matrix\n"
      ]
    },
    {
      "cell_type": "code",
      "execution_count": 15,
      "metadata": {},
      "outputs": [
        {
          "data": {
            "text/plain": [
              "array([ 7,  9, 11, 13, 15])"
            ]
          },
          "execution_count": 15,
          "metadata": {},
          "output_type": "execute_result"
        }
      ],
      "source": [
        "arr1 = [1, 2, 3, 4, 5]\n",
        "arr2 = [6, 7, 8, 9, 10]\n",
        "\n",
        "arr1 = np.array(arr1)\n",
        "arr2 = np.array(arr2)\n",
        "arr1+arr2"
      ]
    },
    {
      "cell_type": "code",
      "execution_count": 27,
      "metadata": {},
      "outputs": [],
      "source": [
        "grocery_list = []\n",
        "for i in range(0,7):\n",
        "    grocery_list.append(input(\"Enter the item names:\"))"
      ]
    },
    {
      "cell_type": "code",
      "execution_count": 28,
      "metadata": {},
      "outputs": [
        {
          "name": "stdout",
          "output_type": "stream",
          "text": [
            "Apple\n",
            "Orange\n",
            "Mango\n",
            "Egg\n",
            "Tomato\n",
            "Onion\n",
            "Potato\n"
          ]
        }
      ],
      "source": [
        "for i in grocery_list:\n",
        "    print (i)"
      ]
    },
    {
      "cell_type": "code",
      "execution_count": 35,
      "metadata": {},
      "outputs": [],
      "source": [
        "Marks = []\n",
        "a = int(input(\"Enter the number of students: \"))\n",
        "i = 1\n",
        "for i in range(a):\n",
        "    Marks.append(int(input(\"Enter the marks:\")))\n",
        "\n",
        "Marks.sort()"
      ]
    },
    {
      "cell_type": "code",
      "execution_count": 38,
      "metadata": {},
      "outputs": [
        {
          "name": "stdout",
          "output_type": "stream",
          "text": [
            "Sorted marks in ascending order: \n",
            " [56, 58, 70]\n"
          ]
        }
      ],
      "source": [
        "print('Sorted marks in ascending order: \\n',Marks)"
      ]
    },
    {
      "cell_type": "code",
      "execution_count": 39,
      "metadata": {},
      "outputs": [
        {
          "name": "stdout",
          "output_type": "stream",
          "text": [
            "The Marks of Section A:\n",
            " [75, 78, 85, 90, 97, 98.5]\n",
            "The Marks of Section B:\n",
            " [45, 62, 74.5, 80, 87, 91]\n"
          ]
        }
      ],
      "source": [
        "Marks_A = [85,90,75,78,97,98.5]\n",
        "Marks_B = [91,62,74.5,80,87,45]\n",
        "\n",
        "Marks_A.sort()\n",
        "Marks_B.sort()\n",
        "\n",
        "print(\"The Marks of Section A:\\n\",Marks_A)\n",
        "print(\"The Marks of Section B:\\n\",Marks_B)"
      ]
    },
    {
      "cell_type": "code",
      "execution_count": null,
      "metadata": {},
      "outputs": [],
      "source": []
    }
  ],
  "metadata": {
    "colab": {
      "include_colab_link": true,
      "name": "scratchpad",
      "provenance": []
    },
    "kernelspec": {
      "display_name": "Python 3",
      "name": "python3"
    },
    "language_info": {
      "codemirror_mode": {
        "name": "ipython",
        "version": 3
      },
      "file_extension": ".py",
      "mimetype": "text/x-python",
      "name": "python",
      "nbconvert_exporter": "python",
      "pygments_lexer": "ipython3",
      "version": "3.11.7"
    }
  },
  "nbformat": 4,
  "nbformat_minor": 0
}
