{
  "cells": [
    {
      "cell_type": "markdown",
      "metadata": {
        "colab_type": "text",
        "id": "view-in-github"
      },
      "source": [
        "<a href=\"https://colab.research.google.com/github/Glamorous9754/Practice-in-Jupyter/blob/main/p_1.ipynb\" target=\"_parent\"><img src=\"https://colab.research.google.com/assets/colab-badge.svg\" alt=\"Open In Colab\"/></a>"
      ]
    },
    {
      "cell_type": "code",
      "execution_count": 1,
      "metadata": {
        "colab": {
          "base_uri": "https://localhost:8080/"
        },
        "id": "lIYdn1woOS1n",
        "outputId": "c2cd7dcc-fc73-4705-cd74-fdacc56267ca"
      },
      "outputs": [
        {
          "name": "stdout",
          "output_type": "stream",
          "text": [
            "<class 'str'>\n"
          ]
        }
      ],
      "source": [
        "a=input(\"Enter Anything: \")\n",
        "print(type(a))"
      ]
    },
    {
      "cell_type": "code",
      "execution_count": 2,
      "metadata": {
        "colab": {
          "base_uri": "https://localhost:8080/"
        },
        "id": "-HwJ_XwANKKv",
        "outputId": "eb11cd87-0375-43f8-c1cf-568a58ae1d72"
      },
      "outputs": [
        {
          "name": "stdout",
          "output_type": "stream",
          "text": [
            "2024-08-05\n",
            "Hello V\n",
            "Dear V You have been selected for the position of Data Analyst at Start-Tech Academy, Your date of joining is 2024-08-05\n"
          ]
        }
      ],
      "source": [
        "import datetime\n",
        "\n",
        "today = datetime.date.today()\n",
        "print(today)\n",
        "name = input(\"Enter Your Name: \")\n",
        "print(\"Hello\",name)\n",
        "\n",
        "print(\"Dear\", name,\"You have been selected for the position of Data Analyst at Start-Tech Academy, Your date of joining is\" , today)"
      ]
    },
    {
      "cell_type": "code",
      "execution_count": 3,
      "metadata": {
        "id": "jAvfF9QLNZHa"
      },
      "outputs": [],
      "source": [
        "import numpy as np\n",
        "import pandas as pd\n",
        "import random\n",
        "import string\n",
        "import seaborn as sns\n",
        "import matplotlib.pyplot as plt"
      ]
    },
    {
      "cell_type": "code",
      "execution_count": 4,
      "metadata": {
        "colab": {
          "base_uri": "https://localhost:8080/",
          "height": 206
        },
        "id": "iS9R52dzODh3",
        "outputId": "5b186aae-a4f8-435a-f58b-35ae695d7b0a"
      },
      "outputs": [
        {
          "data": {
            "text/html": [
              "<div>\n",
              "<style scoped>\n",
              "    .dataframe tbody tr th:only-of-type {\n",
              "        vertical-align: middle;\n",
              "    }\n",
              "\n",
              "    .dataframe tbody tr th {\n",
              "        vertical-align: top;\n",
              "    }\n",
              "\n",
              "    .dataframe thead th {\n",
              "        text-align: right;\n",
              "    }\n",
              "</style>\n",
              "<table border=\"1\" class=\"dataframe\">\n",
              "  <thead>\n",
              "    <tr style=\"text-align: right;\">\n",
              "      <th></th>\n",
              "      <th>A</th>\n",
              "      <th>B</th>\n",
              "      <th>C</th>\n",
              "    </tr>\n",
              "  </thead>\n",
              "  <tbody>\n",
              "    <tr>\n",
              "      <th>0</th>\n",
              "      <td>3</td>\n",
              "      <td>0.982760</td>\n",
              "      <td>sdzdp</td>\n",
              "    </tr>\n",
              "    <tr>\n",
              "      <th>1</th>\n",
              "      <td>5</td>\n",
              "      <td>0.146695</td>\n",
              "      <td>hjlre</td>\n",
              "    </tr>\n",
              "    <tr>\n",
              "      <th>2</th>\n",
              "      <td>7</td>\n",
              "      <td>0.220493</td>\n",
              "      <td>gorew</td>\n",
              "    </tr>\n",
              "    <tr>\n",
              "      <th>3</th>\n",
              "      <td>2</td>\n",
              "      <td>0.003796</td>\n",
              "      <td>svkju</td>\n",
              "    </tr>\n",
              "    <tr>\n",
              "      <th>4</th>\n",
              "      <td>7</td>\n",
              "      <td>0.486815</td>\n",
              "      <td>smpcy</td>\n",
              "    </tr>\n",
              "  </tbody>\n",
              "</table>\n",
              "</div>"
            ],
            "text/plain": [
              "   A         B      C\n",
              "0  3  0.982760  sdzdp\n",
              "1  5  0.146695  hjlre\n",
              "2  7  0.220493  gorew\n",
              "3  2  0.003796  svkju\n",
              "4  7  0.486815  smpcy"
            ]
          },
          "execution_count": 4,
          "metadata": {},
          "output_type": "execute_result"
        }
      ],
      "source": [
        "A = np.random.randint(1,11,100)\n",
        "B = np.random.rand(100)\n",
        "C = [''.join(random.choices(string.ascii_lowercase, k=5)) for _ in range(100)]\n",
        "\n",
        "\n",
        "df = pd.DataFrame({\"A\":A,\"B\":B,\"C\":C})\n",
        "df.head()"
      ]
    },
    {
      "cell_type": "code",
      "execution_count": 5,
      "metadata": {
        "colab": {
          "base_uri": "https://localhost:8080/",
          "height": 206
        },
        "id": "jKmKn1VKONTz",
        "outputId": "33b3dfd5-4954-413a-8572-2653f1c9529b"
      },
      "outputs": [
        {
          "data": {
            "text/html": [
              "<div>\n",
              "<style scoped>\n",
              "    .dataframe tbody tr th:only-of-type {\n",
              "        vertical-align: middle;\n",
              "    }\n",
              "\n",
              "    .dataframe tbody tr th {\n",
              "        vertical-align: top;\n",
              "    }\n",
              "\n",
              "    .dataframe thead th {\n",
              "        text-align: right;\n",
              "    }\n",
              "</style>\n",
              "<table border=\"1\" class=\"dataframe\">\n",
              "  <thead>\n",
              "    <tr style=\"text-align: right;\">\n",
              "      <th></th>\n",
              "      <th>data</th>\n",
              "    </tr>\n",
              "  </thead>\n",
              "  <tbody>\n",
              "    <tr>\n",
              "      <th>0</th>\n",
              "      <td>1.065302</td>\n",
              "    </tr>\n",
              "    <tr>\n",
              "      <th>1</th>\n",
              "      <td>-0.461215</td>\n",
              "    </tr>\n",
              "    <tr>\n",
              "      <th>2</th>\n",
              "      <td>0.095501</td>\n",
              "    </tr>\n",
              "    <tr>\n",
              "      <th>3</th>\n",
              "      <td>-0.228012</td>\n",
              "    </tr>\n",
              "    <tr>\n",
              "      <th>4</th>\n",
              "      <td>-0.353744</td>\n",
              "    </tr>\n",
              "  </tbody>\n",
              "</table>\n",
              "</div>"
            ],
            "text/plain": [
              "       data\n",
              "0  1.065302\n",
              "1 -0.461215\n",
              "2  0.095501\n",
              "3 -0.228012\n",
              "4 -0.353744"
            ]
          },
          "execution_count": 5,
          "metadata": {},
          "output_type": "execute_result"
        }
      ],
      "source": [
        "X = np.random.normal(0,1,100)\n",
        "Y = np.random.normal(10,1,10)\n",
        "data = np.concatenate((X,Y))\n",
        "df = pd.DataFrame({\"data\":data})\n",
        "df.head()"
      ]
    },
    {
      "cell_type": "code",
      "execution_count": 6,
      "metadata": {
        "colab": {
          "base_uri": "https://localhost:8080/",
          "height": 433
        },
        "id": "yXWqRGS-QJpr",
        "outputId": "07f98605-292c-4e32-bde5-b0ba5eb2cef8"
      },
      "outputs": [
        {
          "data": {
            "image/png": "[encoded data removed]",
            "text/plain": [
              "<Figure size 640x480 with 1 Axes>"
            ]
          },
          "metadata": {},
          "output_type": "display_data"
        }
      ],
      "source": [
        "df.describe()\n",
        "sns.boxplot(df[\"data\"])\n",
        "plt.title(\"Box Plot for outliers detection\")\n",
        "plt.show()"
      ]
    },
    {
      "cell_type": "code",
      "execution_count": 7,
      "metadata": {
        "colab": {
          "base_uri": "https://localhost:8080/",
          "height": 433
        },
        "id": "1SkGM6geQymP",
        "outputId": "9a042a38-2ef4-4161-8db2-2227b9b48c64"
      },
      "outputs": [
        {
          "data": {
            "image/png": "[encoded data removed]",
            "text/plain": [
              "<Figure size 640x480 with 1 Axes>"
            ]
          },
          "metadata": {},
          "output_type": "display_data"
        }
      ],
      "source": [
        "sns.violinplot(df[\"data\"])\n",
        "plt.title(\"Violin Plot for outliers detection\")\n",
        "plt.show()"
      ]
    },
    {
      "cell_type": "code",
      "execution_count": 8,
      "metadata": {
        "id": "m_EIGIqlSQ-U"
      },
      "outputs": [
        {
          "name": "stdout",
          "output_type": "stream",
          "text": [
            " , good Morning!\n"
          ]
        }
      ],
      "source": [
        "name = input(\"Enter your name:\")\n",
        "print(name,\", good Morning!\")"
      ]
    },
    {
      "cell_type": "code",
      "execution_count": 9,
      "metadata": {},
      "outputs": [
        {
          "data": {
            "text/html": [
              "<div>\n",
              "<style scoped>\n",
              "    .dataframe tbody tr th:only-of-type {\n",
              "        vertical-align: middle;\n",
              "    }\n",
              "\n",
              "    .dataframe tbody tr th {\n",
              "        vertical-align: top;\n",
              "    }\n",
              "\n",
              "    .dataframe thead th {\n",
              "        text-align: right;\n",
              "    }\n",
              "</style>\n",
              "<table border=\"1\" class=\"dataframe\">\n",
              "  <thead>\n",
              "    <tr style=\"text-align: right;\">\n",
              "      <th></th>\n",
              "      <th>Column1_A</th>\n",
              "      <th>Column1_B</th>\n",
              "      <th>Column1_C</th>\n",
              "      <th>Column2_A</th>\n",
              "      <th>Column2_B</th>\n",
              "      <th>Column2_C</th>\n",
              "      <th>Column3_A</th>\n",
              "      <th>Column3_B</th>\n",
              "      <th>Column3_C</th>\n",
              "    </tr>\n",
              "  </thead>\n",
              "  <tbody>\n",
              "    <tr>\n",
              "      <th>0</th>\n",
              "      <td>True</td>\n",
              "      <td>False</td>\n",
              "      <td>False</td>\n",
              "      <td>True</td>\n",
              "      <td>False</td>\n",
              "      <td>False</td>\n",
              "      <td>True</td>\n",
              "      <td>False</td>\n",
              "      <td>False</td>\n",
              "    </tr>\n",
              "    <tr>\n",
              "      <th>1</th>\n",
              "      <td>False</td>\n",
              "      <td>True</td>\n",
              "      <td>False</td>\n",
              "      <td>True</td>\n",
              "      <td>False</td>\n",
              "      <td>False</td>\n",
              "      <td>False</td>\n",
              "      <td>True</td>\n",
              "      <td>False</td>\n",
              "    </tr>\n",
              "    <tr>\n",
              "      <th>2</th>\n",
              "      <td>False</td>\n",
              "      <td>False</td>\n",
              "      <td>True</td>\n",
              "      <td>True</td>\n",
              "      <td>False</td>\n",
              "      <td>False</td>\n",
              "      <td>False</td>\n",
              "      <td>False</td>\n",
              "      <td>True</td>\n",
              "    </tr>\n",
              "    <tr>\n",
              "      <th>3</th>\n",
              "      <td>True</td>\n",
              "      <td>False</td>\n",
              "      <td>False</td>\n",
              "      <td>True</td>\n",
              "      <td>False</td>\n",
              "      <td>False</td>\n",
              "      <td>False</td>\n",
              "      <td>True</td>\n",
              "      <td>False</td>\n",
              "    </tr>\n",
              "    <tr>\n",
              "      <th>4</th>\n",
              "      <td>False</td>\n",
              "      <td>False</td>\n",
              "      <td>True</td>\n",
              "      <td>True</td>\n",
              "      <td>False</td>\n",
              "      <td>False</td>\n",
              "      <td>False</td>\n",
              "      <td>True</td>\n",
              "      <td>False</td>\n",
              "    </tr>\n",
              "    <tr>\n",
              "      <th>...</th>\n",
              "      <td>...</td>\n",
              "      <td>...</td>\n",
              "      <td>...</td>\n",
              "      <td>...</td>\n",
              "      <td>...</td>\n",
              "      <td>...</td>\n",
              "      <td>...</td>\n",
              "      <td>...</td>\n",
              "      <td>...</td>\n",
              "    </tr>\n",
              "    <tr>\n",
              "      <th>95</th>\n",
              "      <td>True</td>\n",
              "      <td>False</td>\n",
              "      <td>False</td>\n",
              "      <td>False</td>\n",
              "      <td>False</td>\n",
              "      <td>True</td>\n",
              "      <td>False</td>\n",
              "      <td>True</td>\n",
              "      <td>False</td>\n",
              "    </tr>\n",
              "    <tr>\n",
              "      <th>96</th>\n",
              "      <td>False</td>\n",
              "      <td>True</td>\n",
              "      <td>False</td>\n",
              "      <td>False</td>\n",
              "      <td>False</td>\n",
              "      <td>True</td>\n",
              "      <td>True</td>\n",
              "      <td>False</td>\n",
              "      <td>False</td>\n",
              "    </tr>\n",
              "    <tr>\n",
              "      <th>97</th>\n",
              "      <td>False</td>\n",
              "      <td>False</td>\n",
              "      <td>True</td>\n",
              "      <td>False</td>\n",
              "      <td>True</td>\n",
              "      <td>False</td>\n",
              "      <td>True</td>\n",
              "      <td>False</td>\n",
              "      <td>False</td>\n",
              "    </tr>\n",
              "    <tr>\n",
              "      <th>98</th>\n",
              "      <td>False</td>\n",
              "      <td>False</td>\n",
              "      <td>True</td>\n",
              "      <td>False</td>\n",
              "      <td>False</td>\n",
              "      <td>True</td>\n",
              "      <td>False</td>\n",
              "      <td>False</td>\n",
              "      <td>True</td>\n",
              "    </tr>\n",
              "    <tr>\n",
              "      <th>99</th>\n",
              "      <td>False</td>\n",
              "      <td>False</td>\n",
              "      <td>True</td>\n",
              "      <td>True</td>\n",
              "      <td>False</td>\n",
              "      <td>False</td>\n",
              "      <td>True</td>\n",
              "      <td>False</td>\n",
              "      <td>False</td>\n",
              "    </tr>\n",
              "  </tbody>\n",
              "</table>\n",
              "<p>100 rows × 9 columns</p>\n",
              "</div>"
            ],
            "text/plain": [
              "    Column1_A  Column1_B  Column1_C  Column2_A  Column2_B  Column2_C  \\\n",
              "0        True      False      False       True      False      False   \n",
              "1       False       True      False       True      False      False   \n",
              "2       False      False       True       True      False      False   \n",
              "3        True      False      False       True      False      False   \n",
              "4       False      False       True       True      False      False   \n",
              "..        ...        ...        ...        ...        ...        ...   \n",
              "95       True      False      False      False      False       True   \n",
              "96      False       True      False      False      False       True   \n",
              "97      False      False       True      False       True      False   \n",
              "98      False      False       True      False      False       True   \n",
              "99      False      False       True       True      False      False   \n",
              "\n",
              "    Column3_A  Column3_B  Column3_C  \n",
              "0        True      False      False  \n",
              "1       False       True      False  \n",
              "2       False      False       True  \n",
              "3       False       True      False  \n",
              "4       False       True      False  \n",
              "..        ...        ...        ...  \n",
              "95      False       True      False  \n",
              "96       True      False      False  \n",
              "97       True      False      False  \n",
              "98      False      False       True  \n",
              "99       True      False      False  \n",
              "\n",
              "[100 rows x 9 columns]"
            ]
          },
          "execution_count": 9,
          "metadata": {},
          "output_type": "execute_result"
        }
      ],
      "source": [
        "import numpy as np\n",
        "import pandas as pd\n",
        "\n",
        "def create_dummy_variables(arr):\n",
        "    df = pd.DataFrame(arr, columns=['Column1', 'Column2', 'Column3'])\n",
        "    dummy_df = pd.get_dummies(df)\n",
        "    return dummy_df\n",
        "\n",
        "# Example array arr with shape (100, 3)\n",
        "arr = np.random.choice(['A', 'B', 'C'], size=(100, 3))\n",
        "\n",
        "dummy_array = create_dummy_variables(arr)\n",
        "dummy_array"
      ]
    },
    {
      "cell_type": "code",
      "execution_count": 10,
      "metadata": {},
      "outputs": [
        {
          "name": "stdout",
          "output_type": "stream",
          "text": [
            "The entered character is neither uppercase nor lowercase.\n"
          ]
        }
      ],
      "source": [
        "a =  input(\"Enter a Character:\")\n",
        "if a.isupper():\n",
        "    print(\"The entered character is uppercase.\")\n",
        "elif a.islower():\n",
        "    print(\"The entered character is lowercase.\")\n",
        "else:\n",
        "    print(\"The entered character is neither uppercase nor lowercase.\")\n"
      ]
    },
    {
      "cell_type": "code",
      "execution_count": 11,
      "metadata": {},
      "outputs": [
        {
          "name": "stdout",
          "output_type": "stream",
          "text": [
            "[68 68 95 96 96  3 66 83 85 26 37 44 33 37 23 92 65 26 39 91]\n"
          ]
        },
        {
          "data": {
            "text/plain": [
              "array([[68, 68, 95, 96, 96],\n",
              "       [ 3, 66, 83, 85, 26],\n",
              "       [37, 44, 33, 37, 23],\n",
              "       [92, 65, 26, 39, 91]])"
            ]
          },
          "execution_count": 11,
          "metadata": {},
          "output_type": "execute_result"
        }
      ],
      "source": [
        "array = np.random.randint(0,100,20)\n",
        "print(array)\n",
        "\n",
        "matrix = array.reshape(4,5)\n",
        "matrix\n"
      ]
    },
    {
      "cell_type": "code",
      "execution_count": 12,
      "metadata": {},
      "outputs": [
        {
          "data": {
            "text/plain": [
              "array([ 7,  9, 11, 13, 15])"
            ]
          },
          "execution_count": 12,
          "metadata": {},
          "output_type": "execute_result"
        }
      ],
      "source": [
        "arr1 = [1, 2, 3, 4, 5]\n",
        "arr2 = [6, 7, 8, 9, 10]\n",
        "\n",
        "arr1 = np.array(arr1)\n",
        "arr2 = np.array(arr2)\n",
        "arr1+arr2"
      ]
    },
    {
      "cell_type": "code",
      "execution_count": 13,
      "metadata": {},
      "outputs": [],
      "source": [
        "grocery_list = []\n",
        "for i in range(0,7):\n",
        "    grocery_list.append(input(\"Enter the item names:\"))"
      ]
    },
    {
      "cell_type": "code",
      "execution_count": 14,
      "metadata": {},
      "outputs": [
        {
          "name": "stdout",
          "output_type": "stream",
          "text": [
            "\n",
            "\n",
            "\n",
            "\n",
            "\n",
            "\n",
            "\n"
          ]
        }
      ],
      "source": [
        "for i in grocery_list:\n",
        "    print (i)"
      ]
    },
    {
      "cell_type": "code",
      "execution_count": 15,
      "metadata": {},
      "outputs": [
        {
          "ename": "ValueError",
          "evalue": "invalid literal for int() with base 10: ''",
          "output_type": "error",
          "traceback": [
            "\u001b[1;31m---------------------------------------------------------------------------\u001b[0m",
            "\u001b[1;31mValueError\u001b[0m                                Traceback (most recent call last)",
            "Cell \u001b[1;32mIn[15], line 2\u001b[0m\n\u001b[0;32m      1\u001b[0m Marks \u001b[38;5;241m=\u001b[39m []\n\u001b[1;32m----> 2\u001b[0m a \u001b[38;5;241m=\u001b[39m \u001b[38;5;28mint\u001b[39m(\u001b[38;5;28minput\u001b[39m(\u001b[38;5;124m\"\u001b[39m\u001b[38;5;124mEnter the number of students: \u001b[39m\u001b[38;5;124m\"\u001b[39m))\n\u001b[0;32m      3\u001b[0m i \u001b[38;5;241m=\u001b[39m \u001b[38;5;241m1\u001b[39m\n\u001b[0;32m      4\u001b[0m \u001b[38;5;28;01mfor\u001b[39;00m i \u001b[38;5;129;01min\u001b[39;00m \u001b[38;5;28mrange\u001b[39m(a):\n",
            "\u001b[1;31mValueError\u001b[0m: invalid literal for int() with base 10: ''"
          ]
        }
      ],
      "source": [
        "Marks = []\n",
        "a = int(input(\"Enter the number of students: \"))\n",
        "i = 1\n",
        "for i in range(a):\n",
        "    Marks.append(int(input(\"Enter the marks:\")))\n",
        "\n",
        "Marks.sort()"
      ]
    },
    {
      "cell_type": "code",
      "execution_count": null,
      "metadata": {},
      "outputs": [
        {
          "name": "stdout",
          "output_type": "stream",
          "text": [
            "Sorted marks in ascending order: \n",
            " [56, 58, 70]\n"
          ]
        }
      ],
      "source": [
        "print('Sorted marks in ascending order: \\n',Marks)"
      ]
    },
    {
      "cell_type": "code",
      "execution_count": null,
      "metadata": {},
      "outputs": [
        {
          "name": "stdout",
          "output_type": "stream",
          "text": [
            "The Marks of Section A:\n",
            " [75, 78, 85, 90, 97, 98.5]\n",
            "The Marks of Section B:\n",
            " [45, 62, 74.5, 80, 87, 91]\n"
          ]
        }
      ],
      "source": [
        "Marks_A = [85,90,75,78,97,98.5]\n",
        "Marks_B = [91,62,74.5,80,87,45]\n",
        "\n",
        "Marks_A.sort()\n",
        "Marks_B.sort()\n",
        "\n",
        "print(\"The Marks of Section A:\\n\",Marks_A)\n",
        "print(\"The Marks of Section B:\\n\",Marks_B)"
      ]
    },
    {
      "cell_type": "code",
      "execution_count": 17,
      "metadata": {},
      "outputs": [
        {
          "data": {
            "text/plain": [
              "array([ 6,  7,  8,  9, 10, 11, 13, 14,  5])"
            ]
          },
          "execution_count": 17,
          "metadata": {},
          "output_type": "execute_result"
        }
      ],
      "source": [
        "np_array = np.array([1,2,3,4,5,6,8,9,0])\n",
        "np_array + 5"
      ]
    },
    {
      "cell_type": "code",
      "execution_count": 23,
      "metadata": {},
      "outputs": [
        {
          "name": "stdout",
          "output_type": "stream",
          "text": [
            "The translation of 'খেলা' is 'play'.\n"
          ]
        }
      ],
      "source": [
        "# Create a dictionary of Bengali words and their meanings\n",
        "bengali_dict = {\n",
        "    \"আকাশ\": \"sky\",\n",
        "    \"বাতাস\": \"wind\",\n",
        "    \"ভূমি\": \"earth\",\n",
        "    \"জল\": \"water\",\n",
        "    \"আগুন\": \"fire\",\n",
        "    \"ঘর\": \"house\",\n",
        "    \"ছাতা\": \"umbrella\",\n",
        "    \"আনন্দ\": \"joy\",\n",
        "    \"ভালোবাসা\": \"love\",\n",
        "    \"খেলা\": \"play\"\n",
        "}\n",
        "\n",
        "# Function to translate Bengali words\n",
        "def translate_word(word):\n",
        "    if word in bengali_dict:\n",
        "        return bengali_dict[word]\n",
        "    else:\n",
        "        return \"Translation not found\"\n",
        "\n",
        "# Take input from the user\n",
        "input_word = input(\"Enter a Bengali word: \")\n",
        "\n",
        "# Translate the word\n",
        "translation = translate_word(input_word)\n",
        "\n",
        "# Display the translation\n",
        "print(f\"The translation of '{input_word}' is '{translation}'.\")"
      ]
    },
    {
      "cell_type": "code",
      "execution_count": 26,
      "metadata": {},
      "outputs": [
        {
          "name": "stdout",
          "output_type": "stream",
          "text": [
            "The unique values provided are:\n",
            " [1.0, 5.0, 7.0, 8.0, 76.0, 48.0, 25.0, 59.0]\n"
          ]
        }
      ],
      "source": [
        "num_inputs = []\n",
        "for i in range(10):\n",
        "    num_inputs.append(float(input('Enter 10 distinct numbers:')))\n",
        "\n",
        "unique_inputs = list(set(num_inputs))\n",
        "\n",
        "print('The unique values provided are:\\n', unique_inputs)"
      ]
    },
    {
      "cell_type": "code",
      "execution_count": 27,
      "metadata": {},
      "outputs": [
        {
          "name": "stdout",
          "output_type": "stream",
          "text": [
            "interesting\n"
          ]
        }
      ],
      "source": [
        "print('interesting')"
      ]
    },
    {
      "cell_type": "code",
      "execution_count": null,
      "metadata": {},
      "outputs": [],
      "source": []
    }
  ],
  "metadata": {
    "colab": {
      "include_colab_link": true,
      "name": "scratchpad",
      "provenance": []
    },
    "kernelspec": {
      "display_name": "Python 3",
      "name": "python3"
    },
    "language_info": {
      "codemirror_mode": {
        "name": "ipython",
        "version": 3
      },
      "file_extension": ".py",
      "mimetype": "text/x-python",
      "name": "python",
      "nbconvert_exporter": "python",
      "pygments_lexer": "ipython3",
      "version": "3.11.7"
    }
  },
  "nbformat": 4,
  "nbformat_minor": 0
}
